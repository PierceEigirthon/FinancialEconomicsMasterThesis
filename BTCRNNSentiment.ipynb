{
 "cells": [
  {
   "cell_type": "markdown",
   "metadata": {},
   "source": [
    "# DONT FORGET TO MINMAXSCALE RETURNS FAM :)"
   ]
  },
  {
   "cell_type": "code",
   "execution_count": 1,
   "metadata": {},
   "outputs": [
    {
     "name": "stderr",
     "output_type": "stream",
     "text": [
      "C:\\Users\\AURIMASSilva\\Anaconda3\\lib\\site-packages\\h5py\\__init__.py:36: FutureWarning: Conversion of the second argument of issubdtype from `float` to `np.floating` is deprecated. In future, it will be treated as `np.float64 == np.dtype(float).type`.\n",
      "  from ._conv import register_converters as _register_converters\n",
      "Using TensorFlow backend.\n"
     ]
    }
   ],
   "source": [
    "%matplotlib inline\n",
    "\n",
    "import numpy as np\n",
    "import pandas as pd\n",
    "import matplotlib.pyplot as plt\n",
    "import seaborn as sns\n",
    "from keras.preprocessing.sequence import TimeseriesGenerator\n",
    "from sklearn.metrics import mean_squared_error as mse\n",
    "from sklearn.svm import SVR\n",
    "from tqdm import tqdm\n",
    "from sklearn.preprocessing import StandardScaler\n",
    "from keras.callbacks import ModelCheckpoint, EarlyStopping\n",
    "from keras.optimizers import Adam\n",
    "from sklearn.preprocessing import MinMaxScaler\n",
    "from sklearn.metrics import mean_absolute_error as mae"
   ]
  },
  {
   "cell_type": "code",
   "execution_count": 2,
   "metadata": {},
   "outputs": [],
   "source": [
    "def impute_0(x):\n",
    "    if pd.isnull(x):\n",
    "        return 0.00\n",
    "    else:\n",
    "        return x"
   ]
  },
  {
   "cell_type": "code",
   "execution_count": 3,
   "metadata": {},
   "outputs": [],
   "source": [
    "df = pd.read_csv('ready_returns.csv', header =None) # read BTC return data\n",
    "df.columns = ['marge', 'returns'] # make columns nicer\n",
    "df2 = pd.read_csv('sentiment_ready.csv') # read BTC sentiment data\n",
    "df2.columns  = ['index', 'marge', 'sentiment'] # make columns nicer\n",
    "df2 = df2.iloc[1:,:] # remove 2013-12-12 entry for sentiment\n",
    "df3 = pd.merge(df,df2, how='outer', on='marge') # merge sentiment and btc return data\n",
    "assert len(df) == len(df3)   # check if all dates are on\n",
    "df3 = df3[['marge', 'returns', 'sentiment']] # leave relevant oclumns\n",
    "df3.columns = ['date', 'returns', 'sentiment'] # change columns\n",
    "df3['sentiment'] = df3['sentiment'].apply(lambda x : impute_0(x)) # impute missing values with 0"
   ]
  },
  {
   "cell_type": "code",
   "execution_count": 4,
   "metadata": {},
   "outputs": [],
   "source": [
    "# additional btc price data\n",
    "df_price = pd.read_csv('lol.csv')\n",
    "df_price = df_price[1:]\n",
    "df3['price'] = df_price.values"
   ]
  },
  {
   "cell_type": "code",
   "execution_count": 5,
   "metadata": {},
   "outputs": [],
   "source": [
    "#df3.to_csv('fourGreta.csv', index = False)"
   ]
  },
  {
   "cell_type": "code",
   "execution_count": null,
   "metadata": {},
   "outputs": [],
   "source": []
  },
  {
   "cell_type": "markdown",
   "metadata": {},
   "source": [
    "# Prepare data for LSTM consumption"
   ]
  },
  {
   "cell_type": "code",
   "execution_count": 6,
   "metadata": {},
   "outputs": [],
   "source": [
    "sentiment = df3['sentiment'].values\n",
    "returns = df3['returns'].values\n",
    "assert len(sentiment) == len(returns)"
   ]
  },
  {
   "cell_type": "code",
   "execution_count": 7,
   "metadata": {},
   "outputs": [],
   "source": [
    "sc = MinMaxScaler(feature_range = (-1,1))\n",
    "sc.fit(returns.reshape(-1,1))\n",
    "returns = sc.transform(returns.reshape(-1,1))\n",
    "returns = returns.reshape(1,-1)[0]"
   ]
  },
  {
   "cell_type": "code",
   "execution_count": 8,
   "metadata": {},
   "outputs": [],
   "source": [
    "data_gen = TimeseriesGenerator(np.append(sentiment,0.00), np.append(sentiment,0.00),\n",
    "                                       length= 12, sampling_rate=1,\n",
    "                                       batch_size=1)\n",
    "\n",
    "# get features and targets from generated batches\n",
    "features_sentiment = []\n",
    "targets_sentiment = []\n",
    "i = 0\n",
    "while True:\n",
    "    try:\n",
    "        features_sentiment.append(list(data_gen[i][0][0]))\n",
    "        targets_sentiment.append(data_gen[i][1][0])\n",
    "        i += 1\n",
    "    except:\n",
    "        break\n",
    "data_gen = TimeseriesGenerator(np.append(returns,0.00), np.append(returns,0.00),\n",
    "                                       length= 12, sampling_rate=1,\n",
    "                                       batch_size=1)\n",
    "\n",
    "# get features and targets from generated batches\n",
    "features_returns = []\n",
    "targets_returns = []\n",
    "i = 0\n",
    "while True:\n",
    "    try:\n",
    "        features_returns.append(list(data_gen[i][0][0]))\n",
    "        targets_returns.append(data_gen[i][1][0])\n",
    "        i += 1\n",
    "    except:\n",
    "        break\n",
    "        \n",
    "assert len(features_sentiment) == len(features_returns)\n",
    "assert len(targets_sentiment) == len(targets_returns)"
   ]
  },
  {
   "cell_type": "code",
   "execution_count": 9,
   "metadata": {},
   "outputs": [],
   "source": [
    "full_stack = []\n",
    "for i in range(len(features_sentiment)):\n",
    "    combined_stack = []\n",
    "    for ii in range(len(features_sentiment[0])):\n",
    "        combined_stack.append([features_sentiment[i][ii], features_returns[i][ii]])\n",
    "    full_stack.append(combined_stack)\n"
   ]
  },
  {
   "cell_type": "code",
   "execution_count": 10,
   "metadata": {},
   "outputs": [],
   "source": [
    "features = np.array(full_stack)\n",
    "targets = np.array(targets_returns)\n",
    "assert len(targets) == len(features)"
   ]
  },
  {
   "cell_type": "markdown",
   "metadata": {},
   "source": [
    "---"
   ]
  },
  {
   "cell_type": "code",
   "execution_count": 11,
   "metadata": {},
   "outputs": [],
   "source": [
    "# get the training, validation and testing sets\n",
    "x_test, y_test = features[-32:], targets[-32:]\n",
    "x_hold, y_hold = features[:-32], targets[:-32]\n",
    "\n",
    "\n",
    "\n",
    "x_train, x_valid = x_hold[:int(len(x_hold)*.9)], x_hold[int(len(x_hold)*.9):]\n",
    "y_train, y_valid = y_hold[:int(len(y_hold)*.9)], y_hold[int(len(y_hold)*.9):]\n",
    "\n",
    "assert len(x_train) + len(x_valid) == len(x_hold)\n",
    "assert len(y_train) + len(y_valid) == len(y_hold)"
   ]
  },
  {
   "cell_type": "code",
   "execution_count": null,
   "metadata": {},
   "outputs": [],
   "source": []
  },
  {
   "cell_type": "code",
   "execution_count": null,
   "metadata": {},
   "outputs": [],
   "source": []
  },
  {
   "cell_type": "code",
   "execution_count": 12,
   "metadata": {},
   "outputs": [],
   "source": [
    "x_train = x_train.reshape(x_train.shape[0],x_train.shape[1], 2)\n",
    "x_valid = x_valid.reshape(x_valid.shape[0],x_valid.shape[1], 2)\n",
    "x_test = x_test.reshape(x_test.shape[0],x_test.shape[1], 2)"
   ]
  },
  {
   "cell_type": "code",
   "execution_count": 13,
   "metadata": {},
   "outputs": [
    {
     "data": {
      "text/plain": [
       "(32, 12, 2)"
      ]
     },
     "execution_count": 13,
     "metadata": {},
     "output_type": "execute_result"
    }
   ],
   "source": [
    "x_test.shape"
   ]
  },
  {
   "cell_type": "code",
   "execution_count": 14,
   "metadata": {},
   "outputs": [],
   "source": [
    "import keras\n",
    "from keras.models import Sequential\n",
    "from keras.layers import Activation, Dense\n",
    "from keras.layers import LSTM, GRU\n",
    "from keras.layers import Dropout"
   ]
  },
  {
   "cell_type": "code",
   "execution_count": 28,
   "metadata": {},
   "outputs": [
    {
     "name": "stdout",
     "output_type": "stream",
     "text": [
      "LSTM Sentiment Model Summary\n",
      "_________________________________________________________________\n",
      "Layer (type)                 Output Shape              Param #   \n",
      "=================================================================\n",
      "gru_1 (GRU)                  (None, 12, 20)            1380      \n",
      "_________________________________________________________________\n",
      "dropout_3 (Dropout)          (None, 12, 20)            0         \n",
      "_________________________________________________________________\n",
      "gru_2 (GRU)                  (None, 20)                2460      \n",
      "_________________________________________________________________\n",
      "dropout_4 (Dropout)          (None, 20)                0         \n",
      "_________________________________________________________________\n",
      "dense_2 (Dense)              (None, 1)                 21        \n",
      "=================================================================\n",
      "Total params: 3,861\n",
      "Trainable params: 3,861\n",
      "Non-trainable params: 0\n",
      "_________________________________________________________________\n"
     ]
    }
   ],
   "source": [
    "model = Sequential()\n",
    "model.add(GRU(20,input_shape=(x_train.shape[1], x_train.shape[2]), return_sequences= True))\n",
    "model.add(Dropout(0.5))\n",
    "model.add(GRU(20))    # return_sequences= True\n",
    "model.add(Dropout(0.5))\n",
    "model.add(Dense(1, activation = 'linear'))\n",
    "print('LSTM Sentiment Model Summary')\n",
    "model.summary()"
   ]
  },
  {
   "cell_type": "code",
   "execution_count": 68,
   "metadata": {},
   "outputs": [],
   "source": [
    "# optimizer\n",
    "optim = Adam(lr = 0.05)"
   ]
  },
  {
   "cell_type": "code",
   "execution_count": 69,
   "metadata": {},
   "outputs": [],
   "source": [
    "# compiler\n",
    "model.compile(loss='mse', optimizer=optim, metrics=['mse'])"
   ]
  },
  {
   "cell_type": "code",
   "execution_count": 70,
   "metadata": {},
   "outputs": [
    {
     "name": "stdout",
     "output_type": "stream",
     "text": [
      "Train on 1361 samples, validate on 152 samples\n",
      "Epoch 1/5\n",
      " - 16s - loss: 0.0927 - mean_squared_error: 0.0927 - val_loss: 0.1648 - val_mean_squared_error: 0.1648\n",
      "\n",
      "Epoch 00001: val_mean_squared_error improved from inf to 0.16475, saving model to C:\\Users\\AURIMASSilva\\Desktop\\BTC\\memes\\modelsentiment.hdf5\n",
      "Epoch 2/5\n",
      " - 12s - loss: 0.0675 - mean_squared_error: 0.0675 - val_loss: 0.1047 - val_mean_squared_error: 0.1047\n",
      "\n",
      "Epoch 00002: val_mean_squared_error improved from 0.16475 to 0.10470, saving model to C:\\Users\\AURIMASSilva\\Desktop\\BTC\\memes\\modelsentiment.hdf5\n",
      "Epoch 3/5\n",
      " - 13s - loss: 0.0740 - mean_squared_error: 0.0740 - val_loss: 0.0953 - val_mean_squared_error: 0.0953\n",
      "\n",
      "Epoch 00003: val_mean_squared_error improved from 0.10470 to 0.09532, saving model to C:\\Users\\AURIMASSilva\\Desktop\\BTC\\memes\\modelsentiment.hdf5\n",
      "Epoch 4/5\n",
      " - 15s - loss: 0.0587 - mean_squared_error: 0.0587 - val_loss: 0.0803 - val_mean_squared_error: 0.0803\n",
      "\n",
      "Epoch 00004: val_mean_squared_error improved from 0.09532 to 0.08027, saving model to C:\\Users\\AURIMASSilva\\Desktop\\BTC\\memes\\modelsentiment.hdf5\n",
      "Epoch 5/5\n",
      " - 15s - loss: 0.0646 - mean_squared_error: 0.0646 - val_loss: 0.0861 - val_mean_squared_error: 0.0861\n",
      "\n",
      "Epoch 00005: val_mean_squared_error did not improve\n"
     ]
    },
    {
     "data": {
      "text/plain": [
       "<keras.callbacks.History at 0x1ff3af2b390>"
      ]
     },
     "execution_count": 70,
     "metadata": {},
     "output_type": "execute_result"
    }
   ],
   "source": [
    "filepath = \"C:\\\\Users\\\\AURIMASSilva\\\\Desktop\\\\BTC\\\\memes\\\\modelsentiment.hdf5\"\n",
    "checkpoint = [\n",
    "    ModelCheckpoint(filepath, monitor = 'val_mean_squared_error', verbose =1, save_best_only=True, mode= 'min')]\n",
    "#callbacks_list = [checkpoint]                           \n",
    "\n",
    "\n",
    "\n",
    "model.fit(x_train, y_train, batch_size = 1, epochs = 5, validation_data =(x_valid, y_valid), verbose = 2, callbacks = checkpoint)"
   ]
  },
  {
   "cell_type": "code",
   "execution_count": 71,
   "metadata": {},
   "outputs": [],
   "source": [
    "y_hat = model.predict(x_test)\n",
    "y_test_true = sc.inverse_transform(y_test.reshape(-1,1))\n",
    "y_hat_true = sc.inverse_transform(y_hat.reshape(-1,1))"
   ]
  },
  {
   "cell_type": "code",
   "execution_count": 72,
   "metadata": {},
   "outputs": [
    {
     "data": {
      "text/plain": [
       "4.3968446582036815"
      ]
     },
     "execution_count": 72,
     "metadata": {},
     "output_type": "execute_result"
    }
   ],
   "source": [
    "np.sqrt(mse(y_test_true, y_hat_true))"
   ]
  },
  {
   "cell_type": "code",
   "execution_count": 73,
   "metadata": {},
   "outputs": [
    {
     "data": {
      "text/plain": [
       "3.5797025672383205"
      ]
     },
     "execution_count": 73,
     "metadata": {},
     "output_type": "execute_result"
    }
   ],
   "source": [
    "mae(y_test_true, y_hat_true)"
   ]
  },
  {
   "cell_type": "code",
   "execution_count": 74,
   "metadata": {},
   "outputs": [
    {
     "data": {
      "text/plain": [
       "0.1390546440969619"
      ]
     },
     "execution_count": 74,
     "metadata": {},
     "output_type": "execute_result"
    }
   ],
   "source": [
    "np.sum(y_test_true - y_hat_true)/len(y_test_true)"
   ]
  },
  {
   "cell_type": "code",
   "execution_count": 75,
   "metadata": {},
   "outputs": [
    {
     "data": {
      "text/plain": [
       "[<matplotlib.lines.Line2D at 0x1ff3cc83b00>]"
      ]
     },
     "execution_count": 75,
     "metadata": {},
     "output_type": "execute_result"
    },
    {
     "data": {
      "image/png": "[encoded data removed]",
      "text/plain": [
       "<matplotlib.figure.Figure at 0x1ff37119f60>"
      ]
     },
     "metadata": {},
     "output_type": "display_data"
    }
   ],
   "source": [
    "plt.plot(y_test_true)"
   ]
  },
  {
   "cell_type": "code",
   "execution_count": 76,
   "metadata": {},
   "outputs": [
    {
     "data": {
      "text/plain": [
       "[<matplotlib.lines.Line2D at 0x1ff3a69ee10>]"
      ]
     },
     "execution_count": 76,
     "metadata": {},
     "output_type": "execute_result"
    },
    {
     "data": {
      "image/png": "[encoded data removed]",
      "text/plain": [
       "<matplotlib.figure.Figure at 0x1ff32a78dd8>"
      ]
     },
     "metadata": {},
     "output_type": "display_data"
    }
   ],
   "source": [
    "plt.plot(y_hat_true)"
   ]
  },
  {
   "cell_type": "code",
   "execution_count": null,
   "metadata": {},
   "outputs": [],
   "source": []
  }
 ],
 "metadata": {
  "kernelspec": {
   "display_name": "Python 3",
   "language": "python",
   "name": "python3"
  },
  "language_info": {
   "codemirror_mode": {
    "name": "ipython",
    "version": 3
   },
   "file_extension": ".py",
   "mimetype": "text/x-python",
   "name": "python",
   "nbconvert_exporter": "python",
   "pygments_lexer": "ipython3",
   "version": "3.6.4"
  }
 },
 "nbformat": 4,
 "nbformat_minor": 2
}
