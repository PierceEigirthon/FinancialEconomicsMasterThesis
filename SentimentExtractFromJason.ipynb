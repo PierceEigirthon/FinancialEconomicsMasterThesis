{
 "cells": [
  {
   "cell_type": "code",
   "execution_count": 77,
   "metadata": {},
   "outputs": [],
   "source": [
    "import numpy as np\n",
    "import pandas as pd \n",
    "import pickle\n",
    "import re \n",
    "import json\n",
    "import os \n",
    "\n",
    "os.chdir('C:\\\\Users\\\\AURIMASSilva\\\\Desktop\\\\bitcoindata')"
   ]
  },
  {
   "cell_type": "code",
   "execution_count": 6,
   "metadata": {},
   "outputs": [],
   "source": [
    "#with open('bitcointalk_71.json', encoding = \"utf8\") as json_data:\n",
    "#    file = json.load(json_data)"
   ]
  },
  {
   "cell_type": "code",
   "execution_count": 63,
   "metadata": {},
   "outputs": [],
   "source": [
    "#file[\"posts\"][0].keys()"
   ]
  },
  {
   "cell_type": "code",
   "execution_count": 64,
   "metadata": {},
   "outputs": [],
   "source": [
    "#file[\"posts\"][2]['topic']"
   ]
  },
  {
   "cell_type": "code",
   "execution_count": 65,
   "metadata": {},
   "outputs": [],
   "source": [
    "#file[\"posts\"][2]['content']"
   ]
  },
  {
   "cell_type": "code",
   "execution_count": 66,
   "metadata": {},
   "outputs": [],
   "source": [
    "#file[\"posts\"][2]['date']"
   ]
  },
  {
   "cell_type": "code",
   "execution_count": 67,
   "metadata": {},
   "outputs": [],
   "source": [
    "#file[\"posts\"][0]['replies'][0].keys()"
   ]
  },
  {
   "cell_type": "code",
   "execution_count": 68,
   "metadata": {},
   "outputs": [],
   "source": [
    "#len(file[\"posts\"][0]['replies'])"
   ]
  },
  {
   "cell_type": "code",
   "execution_count": 69,
   "metadata": {},
   "outputs": [
    {
     "data": {
      "text/plain": [
       "'\\nfor no_replies in range(1):         # range(len(file[\"posts\"][0][\\'replies\\'])):\\n    print(file[\"posts\"][0][\\'replies\\'][no_replies][\\'content\\'])\\n    print(file[\"posts\"][0][\\'replies\\'][no_replies][\\'date\\'])\\n'"
      ]
     },
     "execution_count": 69,
     "metadata": {},
     "output_type": "execute_result"
    }
   ],
   "source": [
    "\"\"\"\n",
    "for no_replies in range(1):         # range(len(file[\"posts\"][0]['replies'])):\n",
    "    print(file[\"posts\"][0]['replies'][no_replies]['content'])\n",
    "    print(file[\"posts\"][0]['replies'][no_replies]['date'])\n",
    "\"\"\""
   ]
  },
  {
   "cell_type": "code",
   "execution_count": 71,
   "metadata": {},
   "outputs": [],
   "source": [
    "# get for one topic\n",
    "\n",
    "topic = []\n",
    "topic_content = []\n",
    "topic_time = []\n",
    "reply = []\n",
    "reply_time = []\n",
    "\n",
    "\n",
    "string1 = 'bitcointalk_'\n",
    "string2 = '.json'\n",
    "for i in range(1,901):\n",
    "    input123 = string1 + str(i) + string2\n",
    "    with open(input123, encoding = \"utf8\") as json_data:\n",
    "        file = json.load(json_data)\n",
    "\n",
    "\n",
    "    for entry in range(len(file['posts'])):\n",
    "        for no_replies in range(len(file[\"posts\"][entry]['replies'])):\n",
    "\n",
    "            topic.append(file[\"posts\"][entry]['topic'])\n",
    "            topic_content.append(file[\"posts\"][entry]['content'])\n",
    "            topic_time.append(file[\"posts\"][entry]['date'])\n",
    "\n",
    "            reply.append(file[\"posts\"][entry]['replies'][no_replies]['content'])\n",
    "            reply_time.append(file[\"posts\"][entry]['replies'][no_replies]['date'])\n",
    "\n",
    "        assert len(topic) == len(topic_content) == len(topic_time) == len(reply) == len(reply_time)"
   ]
  },
  {
   "cell_type": "code",
   "execution_count": 72,
   "metadata": {},
   "outputs": [
    {
     "ename": "MemoryError",
     "evalue": "",
     "output_type": "error",
     "traceback": [
      "\u001b[1;31m---------------------------------------------------------------------------\u001b[0m",
      "\u001b[1;31mMemoryError\u001b[0m                               Traceback (most recent call last)",
      "\u001b[1;32m<ipython-input-72-5e780ff022a2>\u001b[0m in \u001b[0;36m<module>\u001b[1;34m()\u001b[0m\n\u001b[1;32m----> 1\u001b[1;33m \u001b[0mdf\u001b[0m \u001b[1;33m=\u001b[0m \u001b[0mpd\u001b[0m\u001b[1;33m.\u001b[0m\u001b[0mDataFrame\u001b[0m\u001b[1;33m(\u001b[0m\u001b[1;33m{\u001b[0m\u001b[1;34m'topic'\u001b[0m \u001b[1;33m:\u001b[0m \u001b[0mnp\u001b[0m\u001b[1;33m.\u001b[0m\u001b[0marray\u001b[0m\u001b[1;33m(\u001b[0m\u001b[0mtopic\u001b[0m\u001b[1;33m)\u001b[0m\u001b[1;33m,\u001b[0m \u001b[1;34m'topic_content'\u001b[0m \u001b[1;33m:\u001b[0m \u001b[0mnp\u001b[0m\u001b[1;33m.\u001b[0m\u001b[0marray\u001b[0m\u001b[1;33m(\u001b[0m\u001b[0mtopic_content\u001b[0m\u001b[1;33m)\u001b[0m\u001b[1;33m,\u001b[0m                    \u001b[1;34m'topic_time'\u001b[0m \u001b[1;33m:\u001b[0m \u001b[0mnp\u001b[0m\u001b[1;33m.\u001b[0m\u001b[0marray\u001b[0m\u001b[1;33m(\u001b[0m\u001b[0mtopic_time\u001b[0m\u001b[1;33m)\u001b[0m\u001b[1;33m,\u001b[0m \u001b[1;34m'reply'\u001b[0m \u001b[1;33m:\u001b[0m \u001b[0mnp\u001b[0m\u001b[1;33m.\u001b[0m\u001b[0marray\u001b[0m\u001b[1;33m(\u001b[0m\u001b[0mreply\u001b[0m\u001b[1;33m)\u001b[0m\u001b[1;33m,\u001b[0m \u001b[1;34m'reply_time'\u001b[0m \u001b[1;33m:\u001b[0m \u001b[0mnp\u001b[0m\u001b[1;33m.\u001b[0m\u001b[0marray\u001b[0m\u001b[1;33m(\u001b[0m\u001b[0mreply_time\u001b[0m\u001b[1;33m)\u001b[0m\u001b[1;33m}\u001b[0m\u001b[1;33m)\u001b[0m\u001b[1;33m\u001b[0m\u001b[0m\n\u001b[0m",
      "\u001b[1;31mMemoryError\u001b[0m: "
     ]
    }
   ],
   "source": [
    "#df = pd.DataFrame({'topic' : np.array(topic), 'topic_content' : np.array(topic_content), \\\n",
    "                   'topic_time' : np.array(topic_time), 'reply' : np.array(reply), 'reply_time' : np.array(reply_time)})"
   ]
  },
  {
   "cell_type": "code",
   "execution_count": 62,
   "metadata": {},
   "outputs": [],
   "source": [
    "#df.to_csv('LetUsSee.csv', index = False)"
   ]
  },
  {
   "cell_type": "code",
   "execution_count": 78,
   "metadata": {},
   "outputs": [],
   "source": [
    "os.chdir('C:\\\\Users\\\\AURIMASSilva\\\\Desktop')"
   ]
  },
  {
   "cell_type": "code",
   "execution_count": 76,
   "metadata": {},
   "outputs": [
    {
     "data": {
      "text/plain": [
       "'\\n>> import pickle\\n>>> l = [1,2,3,4]\\n>>> with open(\"test.txt\", \"wb\") as fp:   #Pickling\\n...   pickle.dump(l, fp)\\n... \\n>>> with open(\"test.txt\", \"rb\") as fp:   # Unpickling\\n...   b = pickle.load(fp)\\n... \\n>>> b\\n[1, 2, 3, 4]\\n'"
      ]
     },
     "execution_count": 76,
     "metadata": {},
     "output_type": "execute_result"
    }
   ],
   "source": [
    "\"\"\"\n",
    ">> import pickle\n",
    ">>> l = [1,2,3,4]\n",
    ">>> with open(\"test.txt\", \"wb\") as fp:   #Pickling\n",
    "...   pickle.dump(l, fp)\n",
    "... \n",
    ">>> with open(\"test.txt\", \"rb\") as fp:   # Unpickling\n",
    "...   b = pickle.load(fp)\n",
    "... \n",
    ">>> b\n",
    "[1, 2, 3, 4]\n",
    "\"\"\""
   ]
  },
  {
   "cell_type": "code",
   "execution_count": 81,
   "metadata": {},
   "outputs": [],
   "source": [
    "with open('topic.txt', 'wb') as fp:\n",
    "    pickle.dump(topic, fp)"
   ]
  },
  {
   "cell_type": "code",
   "execution_count": 82,
   "metadata": {},
   "outputs": [],
   "source": [
    "#topic = []\n",
    "#topic_content = []\n",
    "#topic_time = []\n",
    "#reply = []\n",
    "#reply_time = []\n",
    "\n",
    "\n",
    "with open('topic_content.txt', 'wb') as fp:\n",
    "    pickle.dump(topic_content, fp)\n",
    "    \n",
    "with open('topic_time.txt', 'wb') as fp:\n",
    "    pickle.dump(topic_time, fp)   \n",
    "    \n",
    "with open('reply.txt', 'wb') as fp:\n",
    "    pickle.dump(reply, fp)  \n",
    "    \n",
    "with open('reply_time.txt', 'wb') as fp:\n",
    "    pickle.dump(reply_time, fp)      "
   ]
  },
  {
   "cell_type": "code",
   "execution_count": null,
   "metadata": {},
   "outputs": [],
   "source": []
  }
 ],
 "metadata": {
  "kernelspec": {
   "display_name": "Python 3",
   "language": "python",
   "name": "python3"
  },
  "language_info": {
   "codemirror_mode": {
    "name": "ipython",
    "version": 3
   },
   "file_extension": ".py",
   "mimetype": "text/x-python",
   "name": "python",
   "nbconvert_exporter": "python",
   "pygments_lexer": "ipython3",
   "version": "3.6.4"
  }
 },
 "nbformat": 4,
 "nbformat_minor": 2
}
