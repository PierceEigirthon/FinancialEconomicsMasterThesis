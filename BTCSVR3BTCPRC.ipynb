{
 "cells": [
  {
   "cell_type": "code",
   "execution_count": 1,
   "metadata": {},
   "outputs": [
    {
     "name": "stderr",
     "output_type": "stream",
     "text": [
      "C:\\Users\\AURIMASSilva\\Anaconda3\\lib\\site-packages\\h5py\\__init__.py:36: FutureWarning: Conversion of the second argument of issubdtype from `float` to `np.floating` is deprecated. In future, it will be treated as `np.float64 == np.dtype(float).type`.\n",
      "  from ._conv import register_converters as _register_converters\n",
      "Using TensorFlow backend.\n"
     ]
    }
   ],
   "source": [
    "%matplotlib inline\n",
    "\n",
    "import numpy as np\n",
    "import pandas as pd\n",
    "from keras.preprocessing.sequence import TimeseriesGenerator\n",
    "from sklearn.metrics import mean_squared_error as mse\n",
    "from sklearn.metrics import mean_absolute_error as mae\n",
    "from sklearn.svm import SVR\n",
    "from tqdm import tqdm\n",
    "import matplotlib.pyplot as plt\n",
    "from sklearn.preprocessing import StandardScaler, MinMaxScaler\n",
    "from sklearn.metrics import mean_absolute_error as mae"
   ]
  },
  {
   "cell_type": "code",
   "execution_count": 2,
   "metadata": {},
   "outputs": [],
   "source": [
    "df = pd.read_csv('fourGreta.csv')\n",
    "\n",
    "data = df.price.values\n",
    "#data = df['returns'].values, df['returns'].values\n",
    "assert len(data) == len(df)"
   ]
  },
  {
   "cell_type": "code",
   "execution_count": 3,
   "metadata": {},
   "outputs": [
    {
     "data": {
      "text/plain": [
       "array([ 771.4 ,  802.39,  818.72, ..., 6853.84, 6811.47, 6636.32])"
      ]
     },
     "execution_count": 3,
     "metadata": {},
     "output_type": "execute_result"
    }
   ],
   "source": [
    "data"
   ]
  },
  {
   "cell_type": "code",
   "execution_count": 4,
   "metadata": {},
   "outputs": [],
   "source": [
    "def SVR_seq_length_results(lowest, highest, data):\n",
    "    \n",
    "    \"\"\"\n",
    "    Generates baseline results of linear, polynomial, sigmoid and kernel e-SVR\n",
    "    \n",
    "    Inputs:\n",
    "    lowest : lowest sequence length which you want to test\n",
    "    highest: highest sequence length which you want to test\n",
    "    \n",
    "    data: the feature sequence which you want to generate\n",
    "    data2: the target sequence which you want to generate\n",
    "    \"\"\"\n",
    "    \n",
    "    # standardize the feaatures   \n",
    "    sc= MinMaxScaler()\n",
    "    sc.fit(data.reshape(-1,1))\n",
    "    data = sc.transform(data.reshape(-1,1))\n",
    "    # create a placeholder for results\n",
    "    output = {'sequence_length' : [], 'rmse_linear' : [], 'rmse_rbf': []}\n",
    "    \n",
    "    # loops through selected sequence range\n",
    "    for j in tqdm(range(lowest,highest+1)):\n",
    "        # get batches\n",
    "        data_gen = TimeseriesGenerator(np.append(data,0.00), np.append(data,0.00),\n",
    "                                       length=j, sampling_rate=1,\n",
    "                                       batch_size=1)\n",
    "\n",
    "        # get features and targets from generated batches\n",
    "        features = []\n",
    "        targets = []\n",
    "        i = 0\n",
    "        while True:\n",
    "            try:\n",
    "                features.append(list(data_gen[i][0][0]))\n",
    "                targets.append(data_gen[i][1][0])\n",
    "                i += 1\n",
    "            except:\n",
    "                break\n",
    "\n",
    "        # convert to numpy arrays for further use\n",
    "        features = np.array(features)\n",
    "        targets = np.array(targets)\n",
    "\n",
    "        # get the training, validation and testing sets\n",
    "        x_test, y_test = features[-32:], targets[-32:]\n",
    "        x_hold, y_hold = features[:-32], targets[:-32]\n",
    "        \n",
    "        \n",
    "\n",
    "        x_train, x_valid = x_hold[:int(len(x_hold)*.9)], x_hold[int(len(x_hold)*.9):]\n",
    "        y_train, y_valid = y_hold[:int(len(y_hold)*.9)], y_hold[int(len(y_hold)*.9):]\n",
    "\n",
    "        assert len(x_train) + len(x_valid) == len(x_hold)\n",
    "        assert len(y_train) + len(y_valid) == len(y_hold)\n",
    "        \n",
    "        # create and fit linear SVR\n",
    "        reg_linear = SVR(kernel='linear')\n",
    "        reg_linear.fit(x_train, y_train)   \n",
    "        y_hat_linear = reg_linear.predict(x_valid)\n",
    "\n",
    "        # create and fit rbf kernel SVR\n",
    "        reg_rbf = SVR(kernel='rbf')\n",
    "        reg_rbf.fit(x_train, y_train)   \n",
    "        y_hat_rbf = reg_rbf.predict(x_valid)\n",
    "\n",
    "        # create and fit polynomial kernel SVR\n",
    "        #reg_poly = SVR(kernel='poly')\n",
    "        #reg_poly.fit(x_train, y_train)   \n",
    "        #y_hat_poly = reg_poly.predict(x_valid)\n",
    "\n",
    "        # create and fit sigmoid kernel SVR\n",
    "        #reg_sig = SVR(kernel='poly')\n",
    "        #reg_sig.fit(x_train, y_train)   \n",
    "        #y_hat_sig = reg_sig.predict(x_valid)\n",
    "    \n",
    "        # get root mean squared error for validation set for different SVR\n",
    "        output['sequence_length'].append(j)\n",
    "        output['rmse_linear'].append(np.sqrt(mse(sc.inverse_transform(y_valid.reshape(-1,1)), sc.inverse_transform(y_hat_linear.reshape(-1,1)))))\n",
    "        output['rmse_rbf'].append(np.sqrt(mse(sc.inverse_transform(y_valid.reshape(-1,1)), sc.inverse_transform(y_hat_rbf.reshape(-1,1)))))\n",
    "        \n",
    "        \n",
    "        #output['rmse_poly'].append(np.sqrt(mse(y_valid, y_hat_poly)))\n",
    "        #output['rmse_sig'].append(np.sqrt(mse(y_valid, y_hat_sig)))\n",
    "        \n",
    "    output = pd.DataFrame(output)\n",
    "    \n",
    "    return output"
   ]
  },
  {
   "cell_type": "code",
   "execution_count": 5,
   "metadata": {},
   "outputs": [
    {
     "name": "stderr",
     "output_type": "stream",
     "text": [
      "100%|██████████████████████████████████████████████████████████████████████████████████| 19/19 [00:01<00:00, 14.00it/s]\n"
     ]
    }
   ],
   "source": [
    "x = SVR_seq_length_results(2,20,data)"
   ]
  },
  {
   "cell_type": "markdown",
   "metadata": {},
   "source": [
    "---"
   ]
  },
  {
   "cell_type": "code",
   "execution_count": 6,
   "metadata": {},
   "outputs": [],
   "source": [
    "# Modelling linear SVR"
   ]
  },
  {
   "cell_type": "code",
   "execution_count": 7,
   "metadata": {},
   "outputs": [],
   "source": [
    "sc= MinMaxScaler()\n",
    "sc.fit(data.reshape(-1,1))\n",
    "data = sc.transform(data.reshape(-1,1))"
   ]
  },
  {
   "cell_type": "code",
   "execution_count": 8,
   "metadata": {},
   "outputs": [],
   "source": [
    "data_gen = TimeseriesGenerator(np.append(data,0.00), np.append(data,0.00),\n",
    "                                       length=12, sampling_rate=1,\n",
    "                                       batch_size=1)\n",
    "\n",
    "# get features and targets from generated batches\n",
    "features = []\n",
    "targets = []\n",
    "i = 0\n",
    "while True:\n",
    "    try:\n",
    "        features.append(list(data_gen[i][0][0]))\n",
    "        targets.append(data_gen[i][1][0])\n",
    "        i += 1\n",
    "    except:\n",
    "        break"
   ]
  },
  {
   "cell_type": "code",
   "execution_count": 9,
   "metadata": {},
   "outputs": [],
   "source": [
    "# convert to numpy arrays for further use\n",
    "features = np.array(features)\n",
    "targets = np.array(targets)\n",
    "\n",
    "# get the training, validation and testing sets\n",
    "x_test, y_test = features[-32:], targets[-32:]\n",
    "x_hold, y_hold = features[:-32], targets[:-32]\n",
    "\n",
    "\n",
    "\n",
    "x_train, x_valid = x_hold[:int(len(x_hold)*.9)], x_hold[int(len(x_hold)*.9):]\n",
    "y_train, y_valid = y_hold[:int(len(y_hold)*.9)], y_hold[int(len(y_hold)*.9):]\n",
    "\n",
    "assert len(x_train) + len(x_valid) == len(x_hold)\n",
    "assert len(y_train) + len(y_valid) == len(y_hold)"
   ]
  },
  {
   "cell_type": "code",
   "execution_count": 79,
   "metadata": {},
   "outputs": [
    {
     "data": {
      "text/plain": [
       "SVR(C=0.8, cache_size=200, coef0=0.0, degree=3, epsilon=0.0001, gamma='auto',\n",
       "  kernel='rbf', max_iter=-1, shrinking=True, tol=0.001, verbose=False)"
      ]
     },
     "execution_count": 79,
     "metadata": {},
     "output_type": "execute_result"
    }
   ],
   "source": [
    "reg_linear = SVR(kernel='rbf', C = 0.8, epsilon=0.0001)\n",
    "reg_linear.fit(x_train, y_train)   "
   ]
  },
  {
   "cell_type": "code",
   "execution_count": 80,
   "metadata": {},
   "outputs": [],
   "source": [
    "y_hat = reg_linear.predict(x_test)"
   ]
  },
  {
   "cell_type": "code",
   "execution_count": 81,
   "metadata": {},
   "outputs": [],
   "source": [
    "pred = sc.inverse_transform(y_test.reshape(-1,1)).reshape(1,-1)[0]"
   ]
  },
  {
   "cell_type": "code",
   "execution_count": 82,
   "metadata": {},
   "outputs": [],
   "source": [
    "truth = sc.inverse_transform(y_hat.reshape(-1,1)).reshape(1,-1)[0]"
   ]
  },
  {
   "cell_type": "code",
   "execution_count": 83,
   "metadata": {},
   "outputs": [
    {
     "data": {
      "text/plain": [
       "524.8700466466113"
      ]
     },
     "execution_count": 83,
     "metadata": {},
     "output_type": "execute_result"
    }
   ],
   "source": [
    "np.sqrt(mse(truth,pred))"
   ]
  },
  {
   "cell_type": "code",
   "execution_count": 84,
   "metadata": {},
   "outputs": [
    {
     "data": {
      "text/plain": [
       "-292.87588590699454"
      ]
     },
     "execution_count": 84,
     "metadata": {},
     "output_type": "execute_result"
    }
   ],
   "source": [
    "sum(truth - pred)/len(y_test)"
   ]
  },
  {
   "cell_type": "code",
   "execution_count": 85,
   "metadata": {},
   "outputs": [
    {
     "data": {
      "text/plain": [
       "418.8133842484517"
      ]
     },
     "execution_count": 85,
     "metadata": {},
     "output_type": "execute_result"
    }
   ],
   "source": [
    "mae(truth, pred)"
   ]
  },
  {
   "cell_type": "code",
   "execution_count": null,
   "metadata": {},
   "outputs": [],
   "source": []
  }
 ],
 "metadata": {
  "kernelspec": {
   "display_name": "Python 3",
   "language": "python",
   "name": "python3"
  },
  "language_info": {
   "codemirror_mode": {
    "name": "ipython",
    "version": 3
   },
   "file_extension": ".py",
   "mimetype": "text/x-python",
   "name": "python",
   "nbconvert_exporter": "python",
   "pygments_lexer": "ipython3",
   "version": "3.6.4"
  }
 },
 "nbformat": 4,
 "nbformat_minor": 2
}
