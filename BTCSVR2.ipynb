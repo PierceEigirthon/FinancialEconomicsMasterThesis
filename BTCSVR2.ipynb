{
 "cells": [
  {
   "cell_type": "code",
   "execution_count": 1,
   "metadata": {},
   "outputs": [
    {
     "name": "stderr",
     "output_type": "stream",
     "text": [
      "C:\\Users\\AURIMASSilva\\Anaconda3\\lib\\site-packages\\h5py\\__init__.py:36: FutureWarning: Conversion of the second argument of issubdtype from `float` to `np.floating` is deprecated. In future, it will be treated as `np.float64 == np.dtype(float).type`.\n",
      "  from ._conv import register_converters as _register_converters\n",
      "Using TensorFlow backend.\n"
     ]
    }
   ],
   "source": [
    "%matplotlib inline\n",
    "\n",
    "import numpy as np\n",
    "import pandas as pd\n",
    "from keras.preprocessing.sequence import TimeseriesGenerator\n",
    "from sklearn.metrics import mean_squared_error as mse\n",
    "from sklearn.metrics import mean_absolute_error as mae\n",
    "from sklearn.svm import SVR\n",
    "from tqdm import tqdm\n",
    "import matplotlib.pyplot as plt\n",
    "from sklearn.preprocessing import StandardScaler"
   ]
  },
  {
   "cell_type": "code",
   "execution_count": 3,
   "metadata": {},
   "outputs": [],
   "source": [
    "df = pd.read_csv('ready_returns.csv', header = None)\n",
    "df.columns = ['date', 'returns']\n",
    "df.returns = df.returns\n",
    "data, data2 = df['returns'].values, df['returns'].values\n",
    "assert len(data) == len(df) == len(data2)"
   ]
  },
  {
   "cell_type": "code",
   "execution_count": 5,
   "metadata": {},
   "outputs": [
    {
     "data": {
      "text/plain": [
       "(1557,)"
      ]
     },
     "execution_count": 5,
     "metadata": {},
     "output_type": "execute_result"
    }
   ],
   "source": [
    "data.shape"
   ]
  },
  {
   "cell_type": "code",
   "execution_count": 6,
   "metadata": {},
   "outputs": [],
   "source": [
    "def SVR_seq_length_results(lowest, highest, data):\n",
    "    \n",
    "    \"\"\"\n",
    "    Generates baseline results of linear, polynomial, sigmoid and kernel e-SVR\n",
    "    \n",
    "    Inputs:\n",
    "    lowest : lowest sequence length which you want to test\n",
    "    highest: highest sequence length which you want to test\n",
    "    \n",
    "    data: the feature sequence which you want to generate\n",
    "    data2: the target sequence which you want to generate\n",
    "    \"\"\"\n",
    "    \n",
    "    # standardize the feaatures   \n",
    "    sc= StandardScaler()\n",
    "    sc.fit(data.reshape(-1,1))\n",
    "    data = sc.transform(data.reshape(-1,1))\n",
    "    # create a placeholder for results\n",
    "    output = {'sequence_length' : [], 'rmse_linear' : [], 'rmse_rbf': []}\n",
    "    \n",
    "    # loops through selected sequence range\n",
    "    for j in tqdm(range(lowest,highest+1)):\n",
    "        # get batches\n",
    "        data_gen = TimeseriesGenerator(np.append(data,0.00), np.append(data,0.00),\n",
    "                                       length=j, sampling_rate=1,\n",
    "                                       batch_size=1)\n",
    "\n",
    "        # get features and targets from generated batches\n",
    "        features = []\n",
    "        targets = []\n",
    "        i = 0\n",
    "        while True:\n",
    "            try:\n",
    "                features.append(list(data_gen[i][0][0]))\n",
    "                targets.append(data_gen[i][1][0])\n",
    "                i += 1\n",
    "            except:\n",
    "                break\n",
    "\n",
    "        # convert to numpy arrays for further use\n",
    "        features = np.array(features)\n",
    "        targets = np.array(targets)\n",
    "\n",
    "        # get the training, validation and testing sets\n",
    "        x_test, y_test = features[-32:], targets[-32:]\n",
    "        x_hold, y_hold = features[:-32], targets[:-32]\n",
    "        \n",
    "        \n",
    "\n",
    "        x_train, x_valid = x_hold[:int(len(x_hold)*.9)], x_hold[int(len(x_hold)*.9):]\n",
    "        y_train, y_valid = y_hold[:int(len(y_hold)*.9)], y_hold[int(len(y_hold)*.9):]\n",
    "\n",
    "        assert len(x_train) + len(x_valid) == len(x_hold)\n",
    "        assert len(y_train) + len(y_valid) == len(y_hold)\n",
    "        \n",
    "        # create and fit linear SVR\n",
    "        reg_linear = SVR(kernel='linear')\n",
    "        reg_linear.fit(x_train, y_train)   \n",
    "        y_hat_linear = reg_linear.predict(x_valid)\n",
    "\n",
    "        # create and fit rbf kernel SVR\n",
    "        reg_rbf = SVR(kernel='rbf')\n",
    "        reg_rbf.fit(x_train, y_train)   \n",
    "        y_hat_rbf = reg_rbf.predict(x_valid)\n",
    "\n",
    "        # create and fit polynomial kernel SVR\n",
    "        #reg_poly = SVR(kernel='poly')\n",
    "        #reg_poly.fit(x_train, y_train)   \n",
    "        #y_hat_poly = reg_poly.predict(x_valid)\n",
    "\n",
    "        # create and fit sigmoid kernel SVR\n",
    "        #reg_sig = SVR(kernel='poly')\n",
    "        #reg_sig.fit(x_train, y_train)   \n",
    "        #y_hat_sig = reg_sig.predict(x_valid)\n",
    "    \n",
    "        # get root mean squared error for validation set for different SVR\n",
    "        output['sequence_length'].append(j)\n",
    "        output['rmse_linear'].append(np.sqrt(mse(sc.inverse_transform(y_valid), sc.inverse_transform(y_hat_linear))))\n",
    "        output['rmse_rbf'].append(np.sqrt(mse(sc.inverse_transform(y_valid), sc.inverse_transform(y_hat_rbf))))\n",
    "        \n",
    "        \n",
    "        #output['rmse_poly'].append(np.sqrt(mse(y_valid, y_hat_poly)))\n",
    "        #output['rmse_sig'].append(np.sqrt(mse(y_valid, y_hat_sig)))\n",
    "        \n",
    "    output = pd.DataFrame(output)\n",
    "    \n",
    "    return output"
   ]
  },
  {
   "cell_type": "markdown",
   "metadata": {},
   "source": [
    "---"
   ]
  },
  {
   "cell_type": "code",
   "execution_count": 7,
   "metadata": {
    "scrolled": true
   },
   "outputs": [
    {
     "name": "stderr",
     "output_type": "stream",
     "text": [
      "100%|██████████████████████████████████████████████████████████████████████████████████| 10/10 [00:03<00:00,  2.92it/s]\n"
     ]
    }
   ],
   "source": [
    "x = SVR_seq_length_results(2,11,data)"
   ]
  },
  {
   "cell_type": "code",
   "execution_count": 8,
   "metadata": {},
   "outputs": [
    {
     "data": {
      "text/html": [
       "<div>\n",
       "<style scoped>\n",
       "    .dataframe tbody tr th:only-of-type {\n",
       "        vertical-align: middle;\n",
       "    }\n",
       "\n",
       "    .dataframe tbody tr th {\n",
       "        vertical-align: top;\n",
       "    }\n",
       "\n",
       "    .dataframe thead th {\n",
       "        text-align: right;\n",
       "    }\n",
       "</style>\n",
       "<table border=\"1\" class=\"dataframe\">\n",
       "  <thead>\n",
       "    <tr style=\"text-align: right;\">\n",
       "      <th></th>\n",
       "      <th>rmse_linear</th>\n",
       "      <th>rmse_rbf</th>\n",
       "      <th>sequence_length</th>\n",
       "    </tr>\n",
       "  </thead>\n",
       "  <tbody>\n",
       "    <tr>\n",
       "      <th>0</th>\n",
       "      <td>6.361036</td>\n",
       "      <td>6.488763</td>\n",
       "      <td>2</td>\n",
       "    </tr>\n",
       "    <tr>\n",
       "      <th>1</th>\n",
       "      <td>6.350175</td>\n",
       "      <td>6.413241</td>\n",
       "      <td>3</td>\n",
       "    </tr>\n",
       "    <tr>\n",
       "      <th>2</th>\n",
       "      <td>6.363933</td>\n",
       "      <td>6.460996</td>\n",
       "      <td>4</td>\n",
       "    </tr>\n",
       "    <tr>\n",
       "      <th>3</th>\n",
       "      <td>6.387836</td>\n",
       "      <td>6.503290</td>\n",
       "      <td>5</td>\n",
       "    </tr>\n",
       "    <tr>\n",
       "      <th>4</th>\n",
       "      <td>6.374216</td>\n",
       "      <td>6.411332</td>\n",
       "      <td>6</td>\n",
       "    </tr>\n",
       "    <tr>\n",
       "      <th>5</th>\n",
       "      <td>6.385812</td>\n",
       "      <td>6.346584</td>\n",
       "      <td>7</td>\n",
       "    </tr>\n",
       "    <tr>\n",
       "      <th>6</th>\n",
       "      <td>6.376358</td>\n",
       "      <td>6.294669</td>\n",
       "      <td>8</td>\n",
       "    </tr>\n",
       "    <tr>\n",
       "      <th>7</th>\n",
       "      <td>6.380317</td>\n",
       "      <td>6.322109</td>\n",
       "      <td>9</td>\n",
       "    </tr>\n",
       "    <tr>\n",
       "      <th>8</th>\n",
       "      <td>6.373929</td>\n",
       "      <td>6.396566</td>\n",
       "      <td>10</td>\n",
       "    </tr>\n",
       "    <tr>\n",
       "      <th>9</th>\n",
       "      <td>6.364029</td>\n",
       "      <td>6.338166</td>\n",
       "      <td>11</td>\n",
       "    </tr>\n",
       "  </tbody>\n",
       "</table>\n",
       "</div>"
      ],
      "text/plain": [
       "   rmse_linear  rmse_rbf  sequence_length\n",
       "0     6.361036  6.488763                2\n",
       "1     6.350175  6.413241                3\n",
       "2     6.363933  6.460996                4\n",
       "3     6.387836  6.503290                5\n",
       "4     6.374216  6.411332                6\n",
       "5     6.385812  6.346584                7\n",
       "6     6.376358  6.294669                8\n",
       "7     6.380317  6.322109                9\n",
       "8     6.373929  6.396566               10\n",
       "9     6.364029  6.338166               11"
      ]
     },
     "execution_count": 8,
     "metadata": {},
     "output_type": "execute_result"
    }
   ],
   "source": [
    "x"
   ]
  },
  {
   "cell_type": "markdown",
   "metadata": {},
   "source": [
    "---"
   ]
  },
  {
   "cell_type": "markdown",
   "metadata": {},
   "source": [
    "# Optimize linear e-SVR"
   ]
  },
  {
   "cell_type": "code",
   "execution_count": 4,
   "metadata": {},
   "outputs": [],
   "source": [
    "sc= StandardScaler()\n",
    "sc.fit(data.reshape(-1,1))\n",
    "data = sc.transform(data.reshape(-1,1))"
   ]
  },
  {
   "cell_type": "code",
   "execution_count": 5,
   "metadata": {},
   "outputs": [],
   "source": [
    "data_gen = TimeseriesGenerator(np.append(data,0.00), np.append(data,0.00),\n",
    "                                       length=8, sampling_rate=1,\n",
    "                                       batch_size=1)\n",
    "\n",
    "# get features and targets from generated batches\n",
    "features = []\n",
    "targets = []\n",
    "i = 0\n",
    "while True:\n",
    "    try:\n",
    "        features.append(list(data_gen[i][0][0]))\n",
    "        targets.append(data_gen[i][1][0])\n",
    "        i += 1\n",
    "    except:\n",
    "        break"
   ]
  },
  {
   "cell_type": "code",
   "execution_count": 6,
   "metadata": {},
   "outputs": [],
   "source": [
    "# convert to numpy arrays for further use\n",
    "features = np.array(features)\n",
    "targets = np.array(targets)\n",
    "\n",
    "# get the training, validation and testing sets\n",
    "x_test, y_test = features[-32:], targets[-32:]\n",
    "x_hold, y_hold = features[:-32], targets[:-32]\n",
    "\n",
    "\n",
    "\n",
    "x_train, x_valid = x_hold[:int(len(x_hold)*.9)], x_hold[int(len(x_hold)*.9):]\n",
    "y_train, y_valid = y_hold[:int(len(y_hold)*.9)], y_hold[int(len(y_hold)*.9):]\n",
    "\n",
    "assert len(x_train) + len(x_valid) == len(x_hold)\n",
    "assert len(y_train) + len(y_valid) == len(y_hold)"
   ]
  },
  {
   "cell_type": "code",
   "execution_count": 7,
   "metadata": {},
   "outputs": [],
   "source": [
    "reg_linear = SVR(kernel='rbf', C=0.01, epsilon = 0.1, gamma = 0.9)\n",
    "reg_linear.fit(x_train, y_train)   \n",
    "y_hat_linear = reg_linear.predict(x_valid)"
   ]
  },
  {
   "cell_type": "code",
   "execution_count": 8,
   "metadata": {},
   "outputs": [
    {
     "data": {
      "text/plain": [
       "6.316795169283296"
      ]
     },
     "execution_count": 8,
     "metadata": {},
     "output_type": "execute_result"
    }
   ],
   "source": [
    "np.sqrt(mse(sc.inverse_transform(y_valid), sc.inverse_transform(y_hat_linear)))"
   ]
  },
  {
   "cell_type": "code",
   "execution_count": 9,
   "metadata": {},
   "outputs": [],
   "source": [
    "y_hat_linear = reg_linear.predict(x_test)"
   ]
  },
  {
   "cell_type": "code",
   "execution_count": 10,
   "metadata": {},
   "outputs": [
    {
     "data": {
      "text/plain": [
       "4.749848637951993"
      ]
     },
     "execution_count": 10,
     "metadata": {},
     "output_type": "execute_result"
    }
   ],
   "source": [
    "np.sqrt(mse(sc.inverse_transform(y_test), sc.inverse_transform(y_hat_linear)))"
   ]
  },
  {
   "cell_type": "code",
   "execution_count": 11,
   "metadata": {},
   "outputs": [
    {
     "data": {
      "text/plain": [
       "-1.8000608658225687"
      ]
     },
     "execution_count": 11,
     "metadata": {},
     "output_type": "execute_result"
    }
   ],
   "source": [
    "sum(sc.inverse_transform(y_test) - sc.inverse_transform(y_hat_linear))/len(y_test)"
   ]
  },
  {
   "cell_type": "code",
   "execution_count": 12,
   "metadata": {},
   "outputs": [],
   "source": [
    "from sklearn.metrics import mean_absolute_error as mae"
   ]
  },
  {
   "cell_type": "code",
   "execution_count": 16,
   "metadata": {},
   "outputs": [
    {
     "data": {
      "text/plain": [
       "3.8196019210693235"
      ]
     },
     "execution_count": 16,
     "metadata": {},
     "output_type": "execute_result"
    }
   ],
   "source": [
    "mae(sc.inverse_transform(y_test), sc.inverse_transform(y_hat_linear))"
   ]
  },
  {
   "cell_type": "code",
   "execution_count": 9,
   "metadata": {},
   "outputs": [
    {
     "ename": "NameError",
     "evalue": "name 'y_test' is not defined",
     "output_type": "error",
     "traceback": [
      "\u001b[1;31m---------------------------------------------------------------------------\u001b[0m",
      "\u001b[1;31mNameError\u001b[0m                                 Traceback (most recent call last)",
      "\u001b[1;32m<ipython-input-9-2611d3ebf184>\u001b[0m in \u001b[0;36m<module>\u001b[1;34m()\u001b[0m\n\u001b[1;32m----> 1\u001b[1;33m \u001b[0my_test\u001b[0m\u001b[1;33m.\u001b[0m\u001b[0mvar\u001b[0m\u001b[1;33m(\u001b[0m\u001b[1;33m)\u001b[0m\u001b[1;33m\u001b[0m\u001b[0m\n\u001b[0m",
      "\u001b[1;31mNameError\u001b[0m: name 'y_test' is not defined"
     ]
    }
   ],
   "source": [
    "y_test.var()"
   ]
  },
  {
   "cell_type": "code",
   "execution_count": null,
   "metadata": {},
   "outputs": [],
   "source": [
    "y_test"
   ]
  },
  {
   "cell_type": "code",
   "execution_count": 44,
   "metadata": {},
   "outputs": [
    {
     "data": {
      "text/plain": [
       "3.986073150561512"
      ]
     },
     "execution_count": 44,
     "metadata": {},
     "output_type": "execute_result"
    }
   ],
   "source": [
    "np.sqrt(mse(sc.inverse_transform(y_test), sc.inverse_transform(y_hat_linear)))/y_test.var()"
   ]
  },
  {
   "cell_type": "code",
   "execution_count": null,
   "metadata": {},
   "outputs": [],
   "source": []
  }
 ],
 "metadata": {
  "kernelspec": {
   "display_name": "Python 3",
   "language": "python",
   "name": "python3"
  },
  "language_info": {
   "codemirror_mode": {
    "name": "ipython",
    "version": 3
   },
   "file_extension": ".py",
   "mimetype": "text/x-python",
   "name": "python",
   "nbconvert_exporter": "python",
   "pygments_lexer": "ipython3",
   "version": "3.6.4"
  }
 },
 "nbformat": 4,
 "nbformat_minor": 2
}
