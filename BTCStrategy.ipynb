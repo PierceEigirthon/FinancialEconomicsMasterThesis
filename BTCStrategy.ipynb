{
 "cells": [
  {
   "cell_type": "code",
   "execution_count": 1,
   "metadata": {},
   "outputs": [
    {
     "name": "stderr",
     "output_type": "stream",
     "text": [
      "C:\\Users\\AURIMASSilva\\Anaconda3\\lib\\site-packages\\h5py\\__init__.py:36: FutureWarning: Conversion of the second argument of issubdtype from `float` to `np.floating` is deprecated. In future, it will be treated as `np.float64 == np.dtype(float).type`.\n",
      "  from ._conv import register_converters as _register_converters\n",
      "Using TensorFlow backend.\n"
     ]
    }
   ],
   "source": [
    "%matplotlib inline \n",
    "\n",
    "import numpy as np\n",
    "import pandas as pd\n",
    "import matplotlib.pyplot as plt\n",
    "import seaborn as sns\n",
    "from sklearn.preprocessing import MinMaxScaler\n",
    "from keras.preprocessing.sequence import TimeseriesGenerator\n",
    "\n",
    "import keras\n",
    "from keras.models import Sequential\n",
    "from keras.layers import Activation, Dense\n",
    "from keras.layers import LSTM, GRU\n",
    "from keras.layers import Dropout\n",
    "from keras.optimizers import Adam\n",
    "from keras.callbacks import ModelCheckpoint\n",
    "from sklearn.metrics import confusion_matrix, accuracy_score\n",
    "from sklearn import metrics"
   ]
  },
  {
   "cell_type": "code",
   "execution_count": 2,
   "metadata": {},
   "outputs": [],
   "source": [
    "df = pd.read_csv('fourGreta.csv')\n",
    "df['UpOrDown'] = df['returns'].apply(lambda x : 1 if x > 0 else 0)"
   ]
  },
  {
   "cell_type": "markdown",
   "metadata": {},
   "source": [
    "---"
   ]
  },
  {
   "cell_type": "markdown",
   "metadata": {},
   "source": [
    "# Modelling with returns and sentiment "
   ]
  },
  {
   "cell_type": "code",
   "execution_count": 3,
   "metadata": {},
   "outputs": [],
   "source": [
    "# get the values in form of numpy matrix\n",
    "sentiment = df['sentiment'].values\n",
    "returns = df['returns'].values\n",
    "upordown = df['UpOrDown'].values\n",
    "assert len(sentiment) == len(returns) == len(upordown)"
   ]
  },
  {
   "cell_type": "code",
   "execution_count": 4,
   "metadata": {},
   "outputs": [],
   "source": [
    "# scale returns to -1, 1\n",
    "sc = MinMaxScaler(feature_range = (-1,1))\n",
    "sc.fit(returns.reshape(-1,1))\n",
    "returns = sc.transform(returns.reshape(-1,1))\n",
    "returns = returns.reshape(1,-1)[0]"
   ]
  },
  {
   "cell_type": "code",
   "execution_count": 5,
   "metadata": {},
   "outputs": [],
   "source": [
    "# Engineer data for time series modelling \n",
    "data_gen = TimeseriesGenerator(np.append(sentiment,0.00), np.append(sentiment,0.00),\n",
    "                                       length = 12, sampling_rate=1,\n",
    "                                       batch_size=1)\n",
    "\n",
    "# get features and targets from generated batches\n",
    "features_sentiment = []\n",
    "targets_sentiment = []\n",
    "i = 0\n",
    "while True:\n",
    "    try:\n",
    "        features_sentiment.append(list(data_gen[i][0][0]))\n",
    "        targets_sentiment.append(data_gen[i][1][0])\n",
    "        i += 1\n",
    "    except:\n",
    "        break\n",
    "data_gen = TimeseriesGenerator(np.append(returns,0.00), np.append(upordown,0.00),\n",
    "                                       length= 12, sampling_rate=1,\n",
    "                                       batch_size=1)\n",
    "\n",
    "# get features and targets from generated batches\n",
    "features_returns = []\n",
    "targets_returns = []\n",
    "i = 0\n",
    "while True:\n",
    "    try:\n",
    "        features_returns.append(list(data_gen[i][0][0]))\n",
    "        targets_returns.append(data_gen[i][1][0])\n",
    "        i += 1\n",
    "    except:\n",
    "        break\n",
    "        \n",
    "assert len(features_sentiment) == len(features_returns)\n",
    "assert len(targets_sentiment) == len(targets_returns)"
   ]
  },
  {
   "cell_type": "code",
   "execution_count": 6,
   "metadata": {},
   "outputs": [],
   "source": [
    "#stack sentiment and return/price data together\n",
    "full_stack = []\n",
    "for i in range(len(features_sentiment)):\n",
    "    combined_stack = []\n",
    "    for ii in range(len(features_sentiment[0])):\n",
    "        combined_stack.append([features_sentiment[i][ii], features_returns[i][ii]])\n",
    "    full_stack.append(combined_stack)"
   ]
  },
  {
   "cell_type": "code",
   "execution_count": 7,
   "metadata": {},
   "outputs": [],
   "source": [
    "# convert full features and targets into numpy arrays\n",
    "features = np.array(full_stack)\n",
    "targets = np.array(targets_returns)\n",
    "assert len(targets) == len(features)"
   ]
  },
  {
   "cell_type": "code",
   "execution_count": 8,
   "metadata": {},
   "outputs": [
    {
     "data": {
      "text/plain": [
       "True"
      ]
     },
     "execution_count": 8,
     "metadata": {},
     "output_type": "execute_result"
    }
   ],
   "source": [
    "#assert the target features are engineered correctly\n",
    "sum(targets[-32:] == df['UpOrDown'][-32:].values) == len(targets[-32:])"
   ]
  },
  {
   "cell_type": "code",
   "execution_count": 9,
   "metadata": {},
   "outputs": [],
   "source": [
    "# get the training, validation and testing sets\n",
    "x_test, y_test = features[-32:], targets[-32:]\n",
    "x_hold, y_hold = features[:-32], targets[:-32]\n",
    "\n",
    "\n",
    "\n",
    "x_train, x_valid = x_hold[:int(len(x_hold)*.9)], x_hold[int(len(x_hold)*.9):]\n",
    "y_train, y_valid = y_hold[:int(len(y_hold)*.9)], y_hold[int(len(y_hold)*.9):]\n",
    "\n",
    "assert len(x_train) + len(x_valid) == len(x_hold)\n",
    "assert len(y_train) + len(y_valid) == len(y_hold)"
   ]
  },
  {
   "cell_type": "code",
   "execution_count": 10,
   "metadata": {},
   "outputs": [],
   "source": [
    "# reshape data for keras inputs\n",
    "x_train = x_train.reshape(x_train.shape[0],x_train.shape[1], 2)\n",
    "x_valid = x_valid.reshape(x_valid.shape[0],x_valid.shape[1], 2)\n",
    "x_test = x_test.reshape(x_test.shape[0],x_test.shape[1], 2)"
   ]
  },
  {
   "cell_type": "code",
   "execution_count": 11,
   "metadata": {},
   "outputs": [
    {
     "name": "stdout",
     "output_type": "stream",
     "text": [
      "GRU Model Summary\n",
      "_________________________________________________________________\n",
      "Layer (type)                 Output Shape              Param #   \n",
      "=================================================================\n",
      "gru_1 (GRU)                  (None, 100)               30900     \n",
      "_________________________________________________________________\n",
      "dropout_1 (Dropout)          (None, 100)               0         \n",
      "_________________________________________________________________\n",
      "dense_1 (Dense)              (None, 1)                 101       \n",
      "=================================================================\n",
      "Total params: 31,001\n",
      "Trainable params: 31,001\n",
      "Non-trainable params: 0\n",
      "_________________________________________________________________\n"
     ]
    }
   ],
   "source": [
    "model = Sequential()\n",
    "model.add(GRU(100, input_shape=(x_train.shape[1], x_train.shape[2])))\n",
    "model.add(Dropout(0.5))\n",
    "model.add(Dense(1, activation = 'sigmoid'))\n",
    "print('GRU Model Summary')\n",
    "model.summary()"
   ]
  },
  {
   "cell_type": "code",
   "execution_count": 12,
   "metadata": {},
   "outputs": [],
   "source": [
    "# optimizer\n",
    "optim = Adam(lr = 0.005)"
   ]
  },
  {
   "cell_type": "code",
   "execution_count": 13,
   "metadata": {},
   "outputs": [],
   "source": [
    "# compile model with binary_crossentropy loss\n",
    "model.compile(loss='binary_crossentropy', optimizer='adam', metrics=['accuracy'])"
   ]
  },
  {
   "cell_type": "code",
   "execution_count": 14,
   "metadata": {},
   "outputs": [
    {
     "name": "stdout",
     "output_type": "stream",
     "text": [
      "Train on 1361 samples, validate on 152 samples\n",
      "Epoch 1/20\n",
      " - 9s - loss: 0.3361 - acc: 0.5320 - val_loss: 0.6941 - val_acc: 0.4539\n",
      "\n",
      "Epoch 00001: val_acc improved from -inf to 0.45395, saving model to C:\\Users\\AURIMASSilva\\Desktop\\BTC\\memes\\strategyreturns.hdf5\n",
      "Epoch 2/20\n",
      " - 9s - loss: 0.3356 - acc: 0.5408 - val_loss: 0.6978 - val_acc: 0.4605\n",
      "\n",
      "Epoch 00002: val_acc improved from 0.45395 to 0.46053, saving model to C:\\Users\\AURIMASSilva\\Desktop\\BTC\\memes\\strategyreturns.hdf5\n",
      "Epoch 3/20\n",
      " - 9s - loss: 0.3349 - acc: 0.5320 - val_loss: 0.6933 - val_acc: 0.4934\n",
      "\n",
      "Epoch 00003: val_acc improved from 0.46053 to 0.49342, saving model to C:\\Users\\AURIMASSilva\\Desktop\\BTC\\memes\\strategyreturns.hdf5\n",
      "Epoch 4/20\n",
      " - 8s - loss: 0.3350 - acc: 0.5305 - val_loss: 0.6967 - val_acc: 0.4803\n",
      "\n",
      "Epoch 00004: val_acc did not improve\n",
      "Epoch 5/20\n",
      " - 8s - loss: 0.3353 - acc: 0.5312 - val_loss: 0.6955 - val_acc: 0.5066\n",
      "\n",
      "Epoch 00005: val_acc improved from 0.49342 to 0.50658, saving model to C:\\Users\\AURIMASSilva\\Desktop\\BTC\\memes\\strategyreturns.hdf5\n",
      "Epoch 6/20\n",
      " - 8s - loss: 0.3350 - acc: 0.5400 - val_loss: 0.6947 - val_acc: 0.5395\n",
      "\n",
      "Epoch 00006: val_acc improved from 0.50658 to 0.53947, saving model to C:\\Users\\AURIMASSilva\\Desktop\\BTC\\memes\\strategyreturns.hdf5\n",
      "Epoch 7/20\n",
      " - 8s - loss: 0.3351 - acc: 0.5290 - val_loss: 0.6952 - val_acc: 0.5329\n",
      "\n",
      "Epoch 00007: val_acc did not improve\n",
      "Epoch 8/20\n",
      " - 8s - loss: 0.3352 - acc: 0.5290 - val_loss: 0.6957 - val_acc: 0.5197\n",
      "\n",
      "Epoch 00008: val_acc did not improve\n",
      "Epoch 9/20\n",
      " - 8s - loss: 0.3339 - acc: 0.5415 - val_loss: 0.6931 - val_acc: 0.5395\n",
      "\n",
      "Epoch 00009: val_acc did not improve\n",
      "Epoch 10/20\n",
      " - 9s - loss: 0.3348 - acc: 0.5386 - val_loss: 0.6933 - val_acc: 0.5132\n",
      "\n",
      "Epoch 00010: val_acc did not improve\n",
      "Epoch 11/20\n",
      " - 8s - loss: 0.3345 - acc: 0.5349 - val_loss: 0.6935 - val_acc: 0.5197\n",
      "\n",
      "Epoch 00011: val_acc did not improve\n",
      "Epoch 12/20\n",
      " - 8s - loss: 0.3337 - acc: 0.5430 - val_loss: 0.6928 - val_acc: 0.5592\n",
      "\n",
      "Epoch 00012: val_acc improved from 0.53947 to 0.55921, saving model to C:\\Users\\AURIMASSilva\\Desktop\\BTC\\memes\\strategyreturns.hdf5\n",
      "Epoch 13/20\n",
      " - 8s - loss: 0.3341 - acc: 0.5276 - val_loss: 0.6963 - val_acc: 0.5263\n",
      "\n",
      "Epoch 00013: val_acc did not improve\n",
      "Epoch 14/20\n",
      " - 8s - loss: 0.3340 - acc: 0.5474 - val_loss: 0.6998 - val_acc: 0.5066\n",
      "\n",
      "Epoch 00014: val_acc did not improve\n",
      "Epoch 15/20\n",
      " - 8s - loss: 0.3330 - acc: 0.5489 - val_loss: 0.6960 - val_acc: 0.5461\n",
      "\n",
      "Epoch 00015: val_acc did not improve\n",
      "Epoch 16/20\n",
      " - 8s - loss: 0.3398 - acc: 0.5415 - val_loss: 0.7975 - val_acc: 0.4474\n",
      "\n",
      "Epoch 00016: val_acc did not improve\n",
      "Epoch 17/20\n",
      " - 8s - loss: 0.3411 - acc: 0.5283 - val_loss: 0.7137 - val_acc: 0.4803\n",
      "\n",
      "Epoch 00017: val_acc did not improve\n",
      "Epoch 18/20\n",
      " - 8s - loss: 0.3444 - acc: 0.5077 - val_loss: 0.7097 - val_acc: 0.4539\n",
      "\n",
      "Epoch 00018: val_acc did not improve\n",
      "Epoch 19/20\n",
      " - 8s - loss: 0.3384 - acc: 0.5283 - val_loss: 0.7120 - val_acc: 0.4605\n",
      "\n",
      "Epoch 00019: val_acc did not improve\n",
      "Epoch 20/20\n",
      " - 8s - loss: 0.3380 - acc: 0.5356 - val_loss: 0.7112 - val_acc: 0.4474\n",
      "\n",
      "Epoch 00020: val_acc did not improve\n"
     ]
    },
    {
     "data": {
      "text/plain": [
       "<keras.callbacks.History at 0x16b4c968908>"
      ]
     },
     "execution_count": 14,
     "metadata": {},
     "output_type": "execute_result"
    }
   ],
   "source": [
    "filepath = \"C:\\\\Users\\\\AURIMASSilva\\\\Desktop\\\\BTC\\\\memes\\\\strategyreturns.hdf5\"\n",
    "checkpoint = [\n",
    "    ModelCheckpoint(filepath, monitor = 'val_acc', verbose =1, save_best_only=True, mode= 'max')]\n",
    "#callbacks_list = [checkpoint]                           \n",
    "\n",
    "\n",
    "\n",
    "model.fit(x_train, y_train, batch_size = 1, epochs = 20, validation_data =(x_valid, y_valid),\n",
    "          verbose = 2, callbacks = checkpoint, shuffle= False, class_weight= {1: 0.44, 0: 0.54} )"
   ]
  },
  {
   "cell_type": "code",
   "execution_count": 15,
   "metadata": {},
   "outputs": [
    {
     "name": "stdout",
     "output_type": "stream",
     "text": [
      "Accuracy score (test_set): 0.65625\n",
      "Confusion Matrix (test_set):\n",
      "                       Actual Negative     Actual Positive\n",
      "Predicted Positive  5 (False Positive)  15 (True Positive)\n",
      "Predicted Negative   6 (True Negative)  6 (False Negative)\n"
     ]
    }
   ],
   "source": [
    "# evaluate classifier results\n",
    "y_hat = list(map(lambda x : 1 if x >= 0.5 else 0, model.predict(x_test).reshape(1,-1)[0]))\n",
    "acc_s = accuracy_score(y_test,y_hat)\n",
    "cm = confusion_matrix(y_test,y_hat)\n",
    "cm_nice = pd.DataFrame({'Actual Positive': [str(cm[0][0]) + ' (True Positive)',  \n",
    "                      str(cm[1,0]) + ' (False Negative)'], 'Actual Negative' : \n",
    "                        [str(cm[0][1]) + ' (False Positive)', str(cm[1][1]) + ' (True Negative)']})\n",
    "cm_nice.index = ['Predicted Positive', 'Predicted Negative']\n",
    "\n",
    "print('Accuracy score (test_set): %s'%acc_s)\n",
    "print('Confusion Matrix (test_set):')\n",
    "print(cm_nice)"
   ]
  },
  {
   "cell_type": "code",
   "execution_count": 30,
   "metadata": {},
   "outputs": [],
   "source": [
    "y_hat_new = model.predict(x_test).reshape(1,-1)[0]"
   ]
  },
  {
   "cell_type": "code",
   "execution_count": 17,
   "metadata": {},
   "outputs": [],
   "source": [
    "from sklearn import metrics\n",
    "fpr, tpr, thresholds = metrics.roc_curve(y_test,y_hat_new)"
   ]
  },
  {
   "cell_type": "code",
   "execution_count": 18,
   "metadata": {},
   "outputs": [],
   "source": [
    "roc_auc = metrics.auc(fpr, tpr)"
   ]
  },
  {
   "cell_type": "code",
   "execution_count": 19,
   "metadata": {},
   "outputs": [
    {
     "name": "stdout",
     "output_type": "stream",
     "text": [
      "Area under ROC curve: 0.5833333333333333\n"
     ]
    },
    {
     "data": {
      "image/png": "[encoded data removed]",
      "text/plain": [
       "<matplotlib.figure.Figure at 0x16b46834e80>"
      ]
     },
     "metadata": {},
     "output_type": "display_data"
    }
   ],
   "source": [
    "print('Area under ROC curve: %s'%(metrics.roc_auc_score(y_test,y_hat_new)))\n",
    "plt.figure(figsize=(10,4))\n",
    "plt.title('Receiver Operating Characteristic')\n",
    "plt.plot(fpr, tpr, 'b', label = 'AUC = %0.2f' % roc_auc)\n",
    "plt.legend(loc = 'lower right')\n",
    "plt.plot([0, 1], [0, 1],'r--')\n",
    "plt.xlim([0, 1])\n",
    "plt.ylim([0, 1])\n",
    "plt.ylabel('True Positive Rate')\n",
    "plt.xlabel('False Positive Rate')\n",
    "plt.show()"
   ]
  },
  {
   "cell_type": "code",
   "execution_count": 24,
   "metadata": {},
   "outputs": [],
   "source": [
    "kek = pd.DataFrame({'GRUBTCRTN' : np.array(y_hat)})"
   ]
  },
  {
   "cell_type": "code",
   "execution_count": 29,
   "metadata": {},
   "outputs": [],
   "source": [
    "kek.to_csv('data1.csv', index = False)"
   ]
  },
  {
   "cell_type": "code",
   "execution_count": 31,
   "metadata": {},
   "outputs": [
    {
     "data": {
      "text/plain": [
       "[0,\n",
       " 1,\n",
       " 0,\n",
       " 0,\n",
       " 1,\n",
       " 1,\n",
       " 0,\n",
       " 0,\n",
       " 1,\n",
       " 1,\n",
       " 1,\n",
       " 0,\n",
       " 0,\n",
       " 0,\n",
       " 0,\n",
       " 0,\n",
       " 0,\n",
       " 1,\n",
       " 0,\n",
       " 0,\n",
       " 0,\n",
       " 1,\n",
       " 1,\n",
       " 0,\n",
       " 1,\n",
       " 1,\n",
       " 0,\n",
       " 0,\n",
       " 0,\n",
       " 0,\n",
       " 0,\n",
       " 0]"
      ]
     },
     "execution_count": 31,
     "metadata": {},
     "output_type": "execute_result"
    }
   ],
   "source": [
    "y_hat"
   ]
  },
  {
   "cell_type": "code",
   "execution_count": 34,
   "metadata": {},
   "outputs": [
    {
     "data": {
      "text/plain": [
       "12.0"
      ]
     },
     "execution_count": 34,
     "metadata": {},
     "output_type": "execute_result"
    }
   ],
   "source": [
    "sum(y_test)"
   ]
  },
  {
   "cell_type": "code",
   "execution_count": null,
   "metadata": {},
   "outputs": [],
   "source": []
  }
 ],
 "metadata": {
  "kernelspec": {
   "display_name": "Python 3",
   "language": "python",
   "name": "python3"
  },
  "language_info": {
   "codemirror_mode": {
    "name": "ipython",
    "version": 3
   },
   "file_extension": ".py",
   "mimetype": "text/x-python",
   "name": "python",
   "nbconvert_exporter": "python",
   "pygments_lexer": "ipython3",
   "version": "3.6.4"
  }
 },
 "nbformat": 4,
 "nbformat_minor": 2
}
