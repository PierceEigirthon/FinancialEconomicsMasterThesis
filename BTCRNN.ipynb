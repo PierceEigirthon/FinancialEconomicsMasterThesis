{
 "cells": [
  {
   "cell_type": "code",
   "execution_count": 1,
   "metadata": {},
   "outputs": [
    {
     "name": "stderr",
     "output_type": "stream",
     "text": [
      "C:\\Users\\AURIMASSilva\\Anaconda3\\lib\\site-packages\\h5py\\__init__.py:36: FutureWarning: Conversion of the second argument of issubdtype from `float` to `np.floating` is deprecated. In future, it will be treated as `np.float64 == np.dtype(float).type`.\n",
      "  from ._conv import register_converters as _register_converters\n",
      "Using TensorFlow backend.\n"
     ]
    }
   ],
   "source": [
    "%matplotlib inline\n",
    "\n",
    "import numpy as np\n",
    "import pandas as pd\n",
    "from keras.preprocessing.sequence import TimeseriesGenerator\n",
    "from sklearn.metrics import mean_squared_error as mse\n",
    "from sklearn.svm import SVR\n",
    "from tqdm import tqdm\n",
    "import matplotlib.pyplot as plt\n",
    "from sklearn.preprocessing import StandardScaler\n",
    "from keras.callbacks import ModelCheckpoint, EarlyStopping\n",
    "from keras.optimizers import Adam\n",
    "from sklearn.preprocessing import MinMaxScaler\n",
    "from sklearn.metrics import mean_absolute_error as mae"
   ]
  },
  {
   "cell_type": "code",
   "execution_count": 2,
   "metadata": {},
   "outputs": [],
   "source": [
    "df = pd.read_csv('ready_returns.csv', header = None)\n",
    "df.columns = ['date', 'returns']\n",
    "df.returns = df.returns\n",
    "data, data2 = df['returns'].values, df['returns'].values\n",
    "assert len(data) == len(df) == len(data2)"
   ]
  },
  {
   "cell_type": "code",
   "execution_count": 3,
   "metadata": {},
   "outputs": [],
   "source": [
    "\n",
    "sc = MinMaxScaler(feature_range=(-1,1))\n",
    "sc.fit(data.reshape(-1,1))\n",
    "data = sc.transform(data.reshape(-1,1))\n"
   ]
  },
  {
   "cell_type": "code",
   "execution_count": 4,
   "metadata": {},
   "outputs": [],
   "source": [
    "data = data.reshape(1,-1)[0]"
   ]
  },
  {
   "cell_type": "code",
   "execution_count": 5,
   "metadata": {},
   "outputs": [
    {
     "data": {
      "text/plain": [
       "array([ 0.01102189,  0.08478452, -0.00066804, ..., -0.43662616,\n",
       "       -0.11505437, -0.19925689])"
      ]
     },
     "execution_count": 5,
     "metadata": {},
     "output_type": "execute_result"
    }
   ],
   "source": [
    "data"
   ]
  },
  {
   "cell_type": "code",
   "execution_count": 6,
   "metadata": {},
   "outputs": [],
   "source": [
    "data_gen = TimeseriesGenerator(np.append(data,0.00), np.append(data,0.00),\n",
    "                                       length= 10, sampling_rate=1,\n",
    "                                       batch_size=1)\n",
    "\n",
    "# get features and targets from generated batches\n",
    "features = []\n",
    "targets = []\n",
    "i = 0\n",
    "while True:\n",
    "    try:\n",
    "        features.append(list(data_gen[i][0][0]))\n",
    "        targets.append(data_gen[i][1][0])\n",
    "        i += 1\n",
    "    except:\n",
    "        break\n",
    "        \n",
    "        \n",
    "# convert to numpy arrays for further use\n",
    "features = np.array(features)\n",
    "targets = np.array(targets)\n",
    "\n",
    "\n",
    "\n",
    "# get the training, validation and testing sets\n",
    "x_test, y_test = features[-32:], targets[-32:]\n",
    "x_hold, y_hold = features[:-32], targets[:-32]\n",
    "\n",
    "\n",
    "\n",
    "x_train, x_valid = x_hold[:int(len(x_hold)*.9)], x_hold[int(len(x_hold)*.9):]\n",
    "y_train, y_valid = y_hold[:int(len(y_hold)*.9)], y_hold[int(len(y_hold)*.9):]\n",
    "\n",
    "assert len(x_train) + len(x_valid) == len(x_hold)\n",
    "assert len(y_train) + len(y_valid) == len(y_hold)"
   ]
  },
  {
   "cell_type": "code",
   "execution_count": 7,
   "metadata": {},
   "outputs": [],
   "source": [
    "x_train = x_train.reshape(x_train.shape[0],x_train.shape[1], 1)\n",
    "x_valid = x_valid.reshape(x_valid.shape[0],x_valid.shape[1], 1)\n",
    "x_test = x_test.reshape(x_test.shape[0],x_test.shape[1], 1)"
   ]
  },
  {
   "cell_type": "markdown",
   "metadata": {},
   "source": [
    "---"
   ]
  },
  {
   "cell_type": "markdown",
   "metadata": {},
   "source": [
    "# LSTM modelling"
   ]
  },
  {
   "cell_type": "code",
   "execution_count": 8,
   "metadata": {},
   "outputs": [
    {
     "data": {
      "text/plain": [
       "(32,)"
      ]
     },
     "execution_count": 8,
     "metadata": {},
     "output_type": "execute_result"
    }
   ],
   "source": [
    "y_test.shape"
   ]
  },
  {
   "cell_type": "code",
   "execution_count": 9,
   "metadata": {},
   "outputs": [],
   "source": [
    "import keras\n",
    "from keras.models import Sequential\n",
    "from keras.layers import Activation, Dense\n",
    "from keras.layers import LSTM, GRU\n",
    "from keras.layers import Dropout"
   ]
  },
  {
   "cell_type": "code",
   "execution_count": 12,
   "metadata": {},
   "outputs": [
    {
     "name": "stdout",
     "output_type": "stream",
     "text": [
      "GRU Model Summary\n",
      "_________________________________________________________________\n",
      "Layer (type)                 Output Shape              Param #   \n",
      "=================================================================\n",
      "lstm_1 (LSTM)                (None, 10, 20)            1760      \n",
      "_________________________________________________________________\n",
      "lstm_2 (LSTM)                (None, 10, 20)            3280      \n",
      "_________________________________________________________________\n",
      "lstm_3 (LSTM)                (None, 20)                3280      \n",
      "_________________________________________________________________\n",
      "dense_1 (Dense)              (None, 1)                 21        \n",
      "=================================================================\n",
      "Total params: 8,341\n",
      "Trainable params: 8,341\n",
      "Non-trainable params: 0\n",
      "_________________________________________________________________\n"
     ]
    }
   ],
   "source": [
    "model = Sequential()\n",
    "model.add(LSTM(20, return_sequences = True,  input_shape=(x_train.shape[1], x_train.shape[2])))\n",
    "model.add(LSTM(20, return_sequences = True))\n",
    "model.add(LSTM(20))\n",
    "model.add(Dense(1, activation = 'linear'))\n",
    "print('GRU Model Summary')\n",
    "model.summary()"
   ]
  },
  {
   "cell_type": "code",
   "execution_count": 13,
   "metadata": {},
   "outputs": [],
   "source": [
    "# optimizer\n",
    "optim = Adam(lr = 0.005)"
   ]
  },
  {
   "cell_type": "code",
   "execution_count": 14,
   "metadata": {},
   "outputs": [],
   "source": [
    "model.compile(loss='mse', optimizer=optim, metrics=['mse'])"
   ]
  },
  {
   "cell_type": "code",
   "execution_count": 26,
   "metadata": {},
   "outputs": [
    {
     "name": "stdout",
     "output_type": "stream",
     "text": [
      "Train on 1363 samples, validate on 152 samples\n",
      "Epoch 1/20\n",
      " - 1s - loss: 0.0248 - mean_squared_error: 0.0248 - val_loss: 0.0756 - val_mean_squared_error: 0.0756\n",
      "\n",
      "Epoch 00001: val_mean_squared_error improved from inf to 0.07557, saving model to C:\\Users\\AURIMASSilva\\Desktop\\BTC\\memes\\model.hdf5\n",
      "Epoch 2/20\n",
      " - 1s - loss: 0.0248 - mean_squared_error: 0.0248 - val_loss: 0.0753 - val_mean_squared_error: 0.0753\n",
      "\n",
      "Epoch 00002: val_mean_squared_error improved from 0.07557 to 0.07533, saving model to C:\\Users\\AURIMASSilva\\Desktop\\BTC\\memes\\model.hdf5\n",
      "Epoch 3/20\n",
      " - 1s - loss: 0.0247 - mean_squared_error: 0.0247 - val_loss: 0.0747 - val_mean_squared_error: 0.0747\n",
      "\n",
      "Epoch 00003: val_mean_squared_error improved from 0.07533 to 0.07473, saving model to C:\\Users\\AURIMASSilva\\Desktop\\BTC\\memes\\model.hdf5\n",
      "Epoch 4/20\n",
      " - 1s - loss: 0.0247 - mean_squared_error: 0.0247 - val_loss: 0.0758 - val_mean_squared_error: 0.0758\n",
      "\n",
      "Epoch 00004: val_mean_squared_error did not improve\n",
      "Epoch 5/20\n",
      " - 1s - loss: 0.0248 - mean_squared_error: 0.0248 - val_loss: 0.0744 - val_mean_squared_error: 0.0744\n",
      "\n",
      "Epoch 00005: val_mean_squared_error improved from 0.07473 to 0.07437, saving model to C:\\Users\\AURIMASSilva\\Desktop\\BTC\\memes\\model.hdf5\n",
      "Epoch 6/20\n",
      " - 1s - loss: 0.0247 - mean_squared_error: 0.0247 - val_loss: 0.0751 - val_mean_squared_error: 0.0751\n",
      "\n",
      "Epoch 00006: val_mean_squared_error did not improve\n",
      "Epoch 7/20\n",
      " - 1s - loss: 0.0248 - mean_squared_error: 0.0248 - val_loss: 0.0742 - val_mean_squared_error: 0.0742\n",
      "\n",
      "Epoch 00007: val_mean_squared_error improved from 0.07437 to 0.07418, saving model to C:\\Users\\AURIMASSilva\\Desktop\\BTC\\memes\\model.hdf5\n",
      "Epoch 8/20\n",
      " - 1s - loss: 0.0247 - mean_squared_error: 0.0247 - val_loss: 0.0738 - val_mean_squared_error: 0.0738\n",
      "\n",
      "Epoch 00008: val_mean_squared_error improved from 0.07418 to 0.07378, saving model to C:\\Users\\AURIMASSilva\\Desktop\\BTC\\memes\\model.hdf5\n",
      "Epoch 9/20\n",
      " - 1s - loss: 0.0248 - mean_squared_error: 0.0248 - val_loss: 0.0744 - val_mean_squared_error: 0.0744\n",
      "\n",
      "Epoch 00009: val_mean_squared_error did not improve\n",
      "Epoch 10/20\n",
      " - 1s - loss: 0.0246 - mean_squared_error: 0.0246 - val_loss: 0.0744 - val_mean_squared_error: 0.0744\n",
      "\n",
      "Epoch 00010: val_mean_squared_error did not improve\n",
      "Epoch 11/20\n",
      " - 1s - loss: 0.0240 - mean_squared_error: 0.0240 - val_loss: 0.0745 - val_mean_squared_error: 0.0745\n",
      "\n",
      "Epoch 00011: val_mean_squared_error did not improve\n",
      "Epoch 12/20\n",
      " - 1s - loss: 0.0244 - mean_squared_error: 0.0244 - val_loss: 0.0746 - val_mean_squared_error: 0.0746\n",
      "\n",
      "Epoch 00012: val_mean_squared_error did not improve\n",
      "Epoch 13/20\n",
      " - 1s - loss: 0.0242 - mean_squared_error: 0.0242 - val_loss: 0.0729 - val_mean_squared_error: 0.0729\n",
      "\n",
      "Epoch 00013: val_mean_squared_error improved from 0.07378 to 0.07295, saving model to C:\\Users\\AURIMASSilva\\Desktop\\BTC\\memes\\model.hdf5\n",
      "Epoch 14/20\n",
      " - 1s - loss: 0.0243 - mean_squared_error: 0.0243 - val_loss: 0.0730 - val_mean_squared_error: 0.0730\n",
      "\n",
      "Epoch 00014: val_mean_squared_error did not improve\n",
      "Epoch 15/20\n",
      " - 1s - loss: 0.0239 - mean_squared_error: 0.0239 - val_loss: 0.0750 - val_mean_squared_error: 0.0750\n",
      "\n",
      "Epoch 00015: val_mean_squared_error did not improve\n",
      "Epoch 16/20\n",
      " - 1s - loss: 0.0240 - mean_squared_error: 0.0240 - val_loss: 0.0727 - val_mean_squared_error: 0.0727\n",
      "\n",
      "Epoch 00016: val_mean_squared_error improved from 0.07295 to 0.07273, saving model to C:\\Users\\AURIMASSilva\\Desktop\\BTC\\memes\\model.hdf5\n",
      "Epoch 17/20\n",
      " - 1s - loss: 0.0244 - mean_squared_error: 0.0244 - val_loss: 0.0729 - val_mean_squared_error: 0.0729\n",
      "\n",
      "Epoch 00017: val_mean_squared_error did not improve\n",
      "Epoch 18/20\n",
      " - 1s - loss: 0.0241 - mean_squared_error: 0.0241 - val_loss: 0.0727 - val_mean_squared_error: 0.0727\n",
      "\n",
      "Epoch 00018: val_mean_squared_error did not improve\n",
      "Epoch 19/20\n",
      " - 1s - loss: 0.0239 - mean_squared_error: 0.0239 - val_loss: 0.0734 - val_mean_squared_error: 0.0734\n",
      "\n",
      "Epoch 00019: val_mean_squared_error did not improve\n",
      "Epoch 20/20\n",
      " - 1s - loss: 0.0241 - mean_squared_error: 0.0241 - val_loss: 0.0726 - val_mean_squared_error: 0.0726\n",
      "\n",
      "Epoch 00020: val_mean_squared_error improved from 0.07273 to 0.07264, saving model to C:\\Users\\AURIMASSilva\\Desktop\\BTC\\memes\\model.hdf5\n"
     ]
    },
    {
     "data": {
      "text/plain": [
       "<keras.callbacks.History at 0x17384c270b8>"
      ]
     },
     "execution_count": 26,
     "metadata": {},
     "output_type": "execute_result"
    }
   ],
   "source": [
    "filepath = \"C:\\\\Users\\\\AURIMASSilva\\\\Desktop\\\\BTC\\\\memes\\\\model.hdf5\"\n",
    "checkpoint = [\n",
    "    ModelCheckpoint(filepath, monitor = 'val_mean_squared_error', verbose =1, save_best_only=True, mode= 'min')]\n",
    "#callbacks_list = [checkpoint]                           \n",
    "\n",
    "\n",
    "\n",
    "model.fit(x_train, y_train, batch_size = 1, epochs = 20, validation_data =(x_valid, y_valid), verbose = 2, callbacks = checkpoint)"
   ]
  },
  {
   "cell_type": "code",
   "execution_count": 27,
   "metadata": {},
   "outputs": [],
   "source": [
    "y_hat = model.predict(x_test)"
   ]
  },
  {
   "cell_type": "code",
   "execution_count": 28,
   "metadata": {},
   "outputs": [],
   "source": [
    "y_test_true = sc.inverse_transform(y_test.reshape(-1,1))"
   ]
  },
  {
   "cell_type": "code",
   "execution_count": 29,
   "metadata": {},
   "outputs": [],
   "source": [
    "y_hat_true = sc.inverse_transform(y_hat.reshape(-1,1))"
   ]
  },
  {
   "cell_type": "code",
   "execution_count": 30,
   "metadata": {},
   "outputs": [
    {
     "data": {
      "text/plain": [
       "4.826360386422331"
      ]
     },
     "execution_count": 30,
     "metadata": {},
     "output_type": "execute_result"
    }
   ],
   "source": [
    "np.sqrt(mse(y_test_true, y_hat_true))"
   ]
  },
  {
   "cell_type": "code",
   "execution_count": 33,
   "metadata": {},
   "outputs": [
    {
     "data": {
      "text/plain": [
       "3.8901676566445405"
      ]
     },
     "execution_count": 33,
     "metadata": {},
     "output_type": "execute_result"
    }
   ],
   "source": [
    "mae(y_test_true, y_hat_true)"
   ]
  },
  {
   "cell_type": "code",
   "execution_count": 32,
   "metadata": {},
   "outputs": [
    {
     "data": {
      "text/plain": [
       "19.31290675432932"
      ]
     },
     "execution_count": 32,
     "metadata": {},
     "output_type": "execute_result"
    }
   ],
   "source": [
    "y_test_true.var()"
   ]
  },
  {
   "cell_type": "code",
   "execution_count": null,
   "metadata": {},
   "outputs": [],
   "source": [
    "np.sum(y_test_true - y_hat_true)/len(y_test_true)"
   ]
  },
  {
   "cell_type": "code",
   "execution_count": null,
   "metadata": {},
   "outputs": [],
   "source": [
    "len(y_test_true)"
   ]
  },
  {
   "cell_type": "code",
   "execution_count": 31,
   "metadata": {},
   "outputs": [
    {
     "data": {
      "text/plain": [
       "0.208064086132727"
      ]
     },
     "execution_count": 31,
     "metadata": {},
     "output_type": "execute_result"
    }
   ],
   "source": [
    "np.sqrt(mse(y_test, y_hat))"
   ]
  },
  {
   "cell_type": "code",
   "execution_count": null,
   "metadata": {},
   "outputs": [],
   "source": []
  }
 ],
 "metadata": {
  "kernelspec": {
   "display_name": "Python 3",
   "language": "python",
   "name": "python3"
  },
  "language_info": {
   "codemirror_mode": {
    "name": "ipython",
    "version": 3
   },
   "file_extension": ".py",
   "mimetype": "text/x-python",
   "name": "python",
   "nbconvert_exporter": "python",
   "pygments_lexer": "ipython3",
   "version": "3.6.4"
  }
 },
 "nbformat": 4,
 "nbformat_minor": 2
}
