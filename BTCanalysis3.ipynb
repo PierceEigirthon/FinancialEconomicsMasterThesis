{
 "cells": [
  {
   "cell_type": "markdown",
   "metadata": {},
   "source": [
    "# Import Packages"
   ]
  },
  {
   "cell_type": "code",
   "execution_count": 1,
   "metadata": {},
   "outputs": [
    {
     "name": "stderr",
     "output_type": "stream",
     "text": [
      "C:\\Users\\AURIMASSilva\\Anaconda3\\lib\\site-packages\\statsmodels\\compat\\pandas.py:56: FutureWarning: The pandas.core.datetools module is deprecated and will be removed in a future version. Please use the pandas.tseries module instead.\n",
      "  from pandas.core import datetools\n"
     ]
    }
   ],
   "source": [
    "%matplotlib inline\n",
    "import numpy as np\n",
    "import pandas as pd\n",
    "import matplotlib.pyplot as plt\n",
    "from statsmodels.tsa.stattools import adfuller\n",
    "from statsmodels.tsa.arima_model import ARIMA\n",
    "from statsmodels.graphics.tsaplots import plot_acf, plot_pacf\n",
    "df = pd.read_csv('ready_returns.csv', header = None)"
   ]
  },
  {
   "cell_type": "markdown",
   "metadata": {},
   "source": [
    "# Check Bitcoin Returns for stationarity"
   ]
  },
  {
   "cell_type": "code",
   "execution_count": 3,
   "metadata": {},
   "outputs": [],
   "source": [
    "df3 = pd.read_csv('fourGreta.csv')"
   ]
  },
  {
   "cell_type": "code",
   "execution_count": 10,
   "metadata": {},
   "outputs": [],
   "source": [
    "daily = df[1]"
   ]
  },
  {
   "cell_type": "code",
   "execution_count": 4,
   "metadata": {},
   "outputs": [],
   "source": [
    "daily.to_csv('returns2.csv', index = False)"
   ]
  },
  {
   "cell_type": "code",
   "execution_count": 9,
   "metadata": {},
   "outputs": [],
   "source": [
    "#df[1] = df[1]/100"
   ]
  },
  {
   "cell_type": "code",
   "execution_count": 12,
   "metadata": {},
   "outputs": [
    {
     "data": {
      "text/plain": [
       "0        771.40\n",
       "1        802.39\n",
       "2        818.72\n",
       "3        859.51\n",
       "4        933.53\n",
       "5        953.29\n",
       "6        802.00\n",
       "7        842.72\n",
       "8        846.86\n",
       "9        868.48\n",
       "10       913.95\n",
       "11       863.22\n",
       "12       841.20\n",
       "13       833.27\n",
       "14       860.90\n",
       "15       835.63\n",
       "16       814.64\n",
       "17       840.00\n",
       "18       870.96\n",
       "19       870.20\n",
       "20       863.91\n",
       "21       845.59\n",
       "22       822.04\n",
       "23       797.07\n",
       "24       853.61\n",
       "25       885.28\n",
       "26       771.39\n",
       "27       812.51\n",
       "28       826.00\n",
       "29       819.03\n",
       "         ...   \n",
       "1527    9395.01\n",
       "1528    9337.55\n",
       "1529    8866.00\n",
       "1530    9578.63\n",
       "1531    9205.12\n",
       "1532    9194.85\n",
       "1533    8269.81\n",
       "1534    8300.86\n",
       "1535    8338.35\n",
       "1536    7916.88\n",
       "1537    8223.68\n",
       "1538    8630.65\n",
       "1539    8913.47\n",
       "1540    8929.28\n",
       "1541    8728.47\n",
       "1542    8879.62\n",
       "1543    8668.12\n",
       "1544    8495.78\n",
       "1545    8209.40\n",
       "1546    7833.04\n",
       "1547    7954.48\n",
       "1548    7165.70\n",
       "1549    6890.52\n",
       "1550    6973.53\n",
       "1551    6844.23\n",
       "1552    7083.80\n",
       "1553    7456.11\n",
       "1554    6853.84\n",
       "1555    6811.47\n",
       "1556    6636.32\n",
       "Name: price, Length: 1557, dtype: float64"
      ]
     },
     "execution_count": 12,
     "metadata": {},
     "output_type": "execute_result"
    }
   ],
   "source": [
    "df3['price']"
   ]
  },
  {
   "cell_type": "code",
   "execution_count": null,
   "metadata": {},
   "outputs": [],
   "source": []
  },
  {
   "cell_type": "code",
   "execution_count": 5,
   "metadata": {},
   "outputs": [],
   "source": [
    "def check_stationarity(array1):\n",
    "    #input_ad = array1.reshape(array1.shape[0],)   \n",
    "    input_ad = array1\n",
    "    print('data shape: %s'%input_ad.shape)\n",
    "    result = adfuller(input_ad)\n",
    "    print('ADF Statistic: %f' % result[0])\n",
    "    print('p-value: %.3f' % result[1])\n",
    "    print('Critical Values:')\n",
    "    for key, value in result[4].items():\n",
    "        print('\\t%s: %.3f' % (key, value))\n",
    "        \n",
    "    if result[0] < result[4]['1%']:\n",
    "        print('Data is stationary as fuck')\n",
    "    elif result[0] < result[4]['5%']:\n",
    "        print('Date is kinda stationary')\n",
    "    else:\n",
    "        print('You done fucked up son')"
   ]
  },
  {
   "cell_type": "code",
   "execution_count": 6,
   "metadata": {},
   "outputs": [
    {
     "name": "stdout",
     "output_type": "stream",
     "text": [
      "data shape: 1557\n",
      "ADF Statistic: -22.503391\n",
      "p-value: 0.000\n",
      "Critical Values:\n",
      "\t1%: -3.435\n",
      "\t5%: -2.863\n",
      "\t10%: -2.568\n",
      "Data is stationary as fuck\n"
     ]
    }
   ],
   "source": [
    "check_stationarity(df[1])"
   ]
  },
  {
   "cell_type": "code",
   "execution_count": 7,
   "metadata": {},
   "outputs": [
    {
     "data": {
      "text/plain": [
       "Index(['date', 'returns', 'sentiment', 'price'], dtype='object')"
      ]
     },
     "execution_count": 7,
     "metadata": {},
     "output_type": "execute_result"
    }
   ],
   "source": [
    "df3.columns"
   ]
  },
  {
   "cell_type": "code",
   "execution_count": 13,
   "metadata": {},
   "outputs": [
    {
     "name": "stdout",
     "output_type": "stream",
     "text": [
      "data shape: 1557\n",
      "ADF Statistic: -1.941553\n",
      "p-value: 0.313\n",
      "Critical Values:\n",
      "\t1%: -3.435\n",
      "\t5%: -2.863\n",
      "\t10%: -2.568\n",
      "You done fucked up son\n"
     ]
    }
   ],
   "source": [
    "check_stationarity(df3['price'])"
   ]
  },
  {
   "cell_type": "code",
   "execution_count": 22,
   "metadata": {},
   "outputs": [],
   "source": [
    "meme = df3['price']"
   ]
  },
  {
   "cell_type": "code",
   "execution_count": 25,
   "metadata": {},
   "outputs": [],
   "source": [
    "meme2 = []\n",
    "for i in range(len(meme) - 1):\n",
    "    meme2.append(meme[i+1] - meme[i])"
   ]
  },
  {
   "cell_type": "code",
   "execution_count": 28,
   "metadata": {},
   "outputs": [
    {
     "name": "stdout",
     "output_type": "stream",
     "text": [
      "data shape: 1556\n",
      "ADF Statistic: -6.399558\n",
      "p-value: 0.000\n",
      "Critical Values:\n",
      "\t1%: -3.435\n",
      "\t5%: -2.863\n",
      "\t10%: -2.568\n",
      "Data is stationary as fuck\n"
     ]
    }
   ],
   "source": [
    "check_stationarity(np.array(meme2))"
   ]
  },
  {
   "cell_type": "code",
   "execution_count": null,
   "metadata": {},
   "outputs": [],
   "source": []
  },
  {
   "cell_type": "code",
   "execution_count": null,
   "metadata": {},
   "outputs": [],
   "source": []
  },
  {
   "cell_type": "code",
   "execution_count": null,
   "metadata": {},
   "outputs": [],
   "source": []
  },
  {
   "cell_type": "code",
   "execution_count": null,
   "metadata": {},
   "outputs": [],
   "source": []
  },
  {
   "cell_type": "code",
   "execution_count": null,
   "metadata": {},
   "outputs": [],
   "source": []
  },
  {
   "cell_type": "code",
   "execution_count": null,
   "metadata": {},
   "outputs": [],
   "source": []
  },
  {
   "cell_type": "markdown",
   "metadata": {},
   "source": [
    "# Preprocessing"
   ]
  },
  {
   "cell_type": "code",
   "execution_count": 11,
   "metadata": {},
   "outputs": [],
   "source": [
    "# split into training and test\n",
    "training = df.iloc[:-32,:]\n",
    "testing = df.iloc[-32:,:]   #data from 2018-03-06 to 2018-04-06\n",
    "assert len(training) + len(testing) == len(df) #check if we don't lose any data\n",
    "\n",
    "# closing prices into arrays for further analysis\n",
    "training_data = training[1].values\n",
    "testing_data = testing[1].values\n",
    "\n",
    "# perform strandardization on data\n",
    "#training_data = training_data.reshape(-1,1)  # skip for now\n",
    "#testing_data = testing_data.reshape(-1,1)   # skip for now"
   ]
  },
  {
   "cell_type": "code",
   "execution_count": 12,
   "metadata": {},
   "outputs": [
    {
     "data": {
      "text/plain": [
       "'\\nfrom sklearn.preprocessing import StandardScaler\\nscaler_train = StandardScaler()\\nscaler_test = StandardScaler()\\nscaler_train.fit(training_data)\\nscaler_test.fit(testing_data)\\n'"
      ]
     },
     "execution_count": 12,
     "metadata": {},
     "output_type": "execute_result"
    }
   ],
   "source": [
    "\"\"\"\n",
    "from sklearn.preprocessing import StandardScaler\n",
    "scaler_train = StandardScaler()\n",
    "scaler_test = StandardScaler()\n",
    "scaler_train.fit(training_data)\n",
    "scaler_test.fit(testing_data)\n",
    "\"\"\""
   ]
  },
  {
   "cell_type": "code",
   "execution_count": 13,
   "metadata": {},
   "outputs": [],
   "source": [
    "#training_data = scaler_train.transform(training_data)\n",
    "#testing_data = scaler_test.transform(testing_data)"
   ]
  },
  {
   "cell_type": "code",
   "execution_count": 14,
   "metadata": {},
   "outputs": [
    {
     "data": {
      "image/png": "[encoded data removed]",
      "text/plain": [
       "<matplotlib.figure.Figure at 0x2832ac9f898>"
      ]
     },
     "metadata": {},
     "output_type": "display_data"
    }
   ],
   "source": [
    "plt.figure(figsize= (14,5))\n",
    "plt.plot(training_data)\n",
    "plt.show()"
   ]
  },
  {
   "cell_type": "markdown",
   "metadata": {},
   "source": [
    "# ARIMA STUFF"
   ]
  },
  {
   "cell_type": "code",
   "execution_count": 15,
   "metadata": {},
   "outputs": [
    {
     "data": {
      "image/png": "[encoded data removed]",
      "text/plain": [
       "<matplotlib.figure.Figure at 0x2832ad9e470>"
      ]
     },
     "metadata": {},
     "output_type": "display_data"
    },
    {
     "data": {
      "image/png": "[encoded data removed]",
      "text/plain": [
       "<matplotlib.figure.Figure at 0x2832ae2ceb8>"
      ]
     },
     "metadata": {},
     "output_type": "display_data"
    }
   ],
   "source": [
    "plot_acf(df[1], lags=50)\n",
    "plt.tight_layout()\n",
    "plt.show()\n",
    "\n",
    "plot_pacf(df[1], lags=50)\n",
    "plt.tight_layout()\n",
    "plt.show()"
   ]
  },
  {
   "cell_type": "code",
   "execution_count": 16,
   "metadata": {
    "scrolled": true
   },
   "outputs": [
    {
     "name": "stderr",
     "output_type": "stream",
     "text": [
      "C:\\Users\\AURIMASSilva\\Anaconda3\\lib\\site-packages\\statsmodels\\tsa\\tsatools.py:628: RuntimeWarning: overflow encountered in exp\n",
      "  newparams = ((1-np.exp(-params))/(1+np.exp(-params))).copy()\n",
      "C:\\Users\\AURIMASSilva\\Anaconda3\\lib\\site-packages\\statsmodels\\tsa\\tsatools.py:628: RuntimeWarning: invalid value encountered in true_divide\n",
      "  newparams = ((1-np.exp(-params))/(1+np.exp(-params))).copy()\n",
      "C:\\Users\\AURIMASSilva\\Anaconda3\\lib\\site-packages\\statsmodels\\tsa\\tsatools.py:629: RuntimeWarning: overflow encountered in exp\n",
      "  tmp = ((1-np.exp(-params))/(1+np.exp(-params))).copy()\n",
      "C:\\Users\\AURIMASSilva\\Anaconda3\\lib\\site-packages\\statsmodels\\tsa\\tsatools.py:629: RuntimeWarning: invalid value encountered in true_divide\n",
      "  tmp = ((1-np.exp(-params))/(1+np.exp(-params))).copy()\n",
      "C:\\Users\\AURIMASSilva\\Anaconda3\\lib\\site-packages\\statsmodels\\tsa\\kalmanf\\kalmanfilter.py:646: FutureWarning: Conversion of the second argument of issubdtype from `float` to `np.floating` is deprecated. In future, it will be treated as `np.float64 == np.dtype(float).type`.\n",
      "  if issubdtype(paramsdtype, float):\n",
      "C:\\Users\\AURIMASSilva\\Anaconda3\\lib\\site-packages\\statsmodels\\tsa\\kalmanf\\kalmanfilter.py:650: FutureWarning: Conversion of the second argument of issubdtype from `complex` to `np.complexfloating` is deprecated. In future, it will be treated as `np.complex128 == np.dtype(complex).type`.\n",
      "  elif issubdtype(paramsdtype, complex):\n",
      "C:\\Users\\AURIMASSilva\\Anaconda3\\lib\\site-packages\\statsmodels\\base\\model.py:473: HessianInversionWarning: Inverting hessian failed, no bse or cov_params available\n",
      "  'available', HessianInversionWarning)\n"
     ]
    },
    {
     "name": "stdout",
     "output_type": "stream",
     "text": [
      "                             ARIMA Model Results                              \n",
      "==============================================================================\n",
      "Dep. Variable:                    D.y   No. Observations:                 1524\n",
      "Model:                 ARIMA(2, 1, 2)   Log Likelihood                2742.481\n",
      "Method:                       css-mle   S.D. of innovations              0.040\n",
      "Date:                Sat, 28 Apr 2018   AIC                          -5472.961\n",
      "Time:                        13:52:45   BIC                          -5440.986\n",
      "Sample:                             1   HQIC                         -5461.059\n",
      "                                                                              \n",
      "==============================================================================\n",
      "                 coef    std err          z      P>|z|      [0.025      0.975]\n",
      "------------------------------------------------------------------------------\n",
      "const       7.486e-06   2.11e-06      3.548      0.000    3.35e-06    1.16e-05\n",
      "ar.L1.D.y      0.5672        nan        nan        nan         nan         nan\n",
      "ar.L2.D.y     -0.0374      0.025     -1.493      0.136      -0.086       0.012\n",
      "ma.L1.D.y     -1.5730        nan        nan        nan         nan         nan\n",
      "ma.L2.D.y      0.5730        nan        nan        nan         nan         nan\n",
      "                                    Roots                                    \n",
      "=============================================================================\n",
      "                 Real           Imaginary           Modulus         Frequency\n",
      "-----------------------------------------------------------------------------\n",
      "AR.1            2.0363           +0.0000j            2.0363            0.0000\n",
      "AR.2           13.1390           +0.0000j           13.1390            0.0000\n",
      "MA.1            1.0000           +0.0000j            1.0000            0.0000\n",
      "MA.2            1.7453           +0.0000j            1.7453            0.0000\n",
      "-----------------------------------------------------------------------------\n"
     ]
    },
    {
     "name": "stderr",
     "output_type": "stream",
     "text": [
      "C:\\Users\\AURIMASSilva\\Anaconda3\\lib\\site-packages\\statsmodels\\tsa\\arima_model.py:1441: RuntimeWarning: invalid value encountered in sqrt\n",
      "  return np.sqrt(np.diag(-inv(hess)))\n",
      "C:\\Users\\AURIMASSilva\\Anaconda3\\lib\\site-packages\\scipy\\stats\\_distn_infrastructure.py:879: RuntimeWarning: invalid value encountered in greater\n",
      "  return (self.a < x) & (x < self.b)\n",
      "C:\\Users\\AURIMASSilva\\Anaconda3\\lib\\site-packages\\scipy\\stats\\_distn_infrastructure.py:879: RuntimeWarning: invalid value encountered in less\n",
      "  return (self.a < x) & (x < self.b)\n",
      "C:\\Users\\AURIMASSilva\\Anaconda3\\lib\\site-packages\\scipy\\stats\\_distn_infrastructure.py:1821: RuntimeWarning: invalid value encountered in less_equal\n",
      "  cond2 = cond0 & (x <= self.a)\n"
     ]
    }
   ],
   "source": [
    "model = ARIMA(list(training_data), order = (2,1,2))\n",
    "result = model.fit(disp = 0)\n",
    "print(result.summary())"
   ]
  },
  {
   "cell_type": "code",
   "execution_count": 17,
   "metadata": {},
   "outputs": [
    {
     "name": "stderr",
     "output_type": "stream",
     "text": [
      "C:\\Users\\AURIMASSilva\\Anaconda3\\lib\\site-packages\\statsmodels\\tsa\\kalmanf\\kalmanfilter.py:577: FutureWarning: Conversion of the second argument of issubdtype from `float` to `np.floating` is deprecated. In future, it will be treated as `np.float64 == np.dtype(float).type`.\n",
      "  if issubdtype(paramsdtype, float):\n"
     ]
    },
    {
     "data": {
      "text/plain": [
       "[<matplotlib.lines.Line2D at 0x2832b06a8d0>]"
      ]
     },
     "execution_count": 17,
     "metadata": {},
     "output_type": "execute_result"
    },
    {
     "data": {
      "image/png": "[encoded data removed]",
      "text/plain": [
       "<matplotlib.figure.Figure at 0x2832adbbf60>"
      ]
     },
     "metadata": {},
     "output_type": "display_data"
    }
   ],
   "source": [
    "plt.subplot(211)\n",
    "plt.plot(training_data)\n",
    "plt.subplot(212)\n",
    "plt.plot(result.fittedvalues, color='red')"
   ]
  },
  {
   "cell_type": "code",
   "execution_count": 11,
   "metadata": {},
   "outputs": [],
   "source": [
    "output = result.forecast(steps = 32,)"
   ]
  },
  {
   "cell_type": "code",
   "execution_count": 12,
   "metadata": {},
   "outputs": [
    {
     "data": {
      "text/plain": [
       "0.8461656048057947"
      ]
     },
     "execution_count": 12,
     "metadata": {},
     "output_type": "execute_result"
    }
   ],
   "source": [
    "output[0].mean()"
   ]
  },
  {
   "cell_type": "code",
   "execution_count": 13,
   "metadata": {},
   "outputs": [
    {
     "data": {
      "text/plain": [
       "-1.6246395230401842"
      ]
     },
     "execution_count": 13,
     "metadata": {},
     "output_type": "execute_result"
    }
   ],
   "source": [
    "testing_data.mean()"
   ]
  },
  {
   "cell_type": "markdown",
   "metadata": {},
   "source": [
    "---"
   ]
  },
  {
   "cell_type": "markdown",
   "metadata": {},
   "source": [
    "# SVR"
   ]
  },
  {
   "cell_type": "code",
   "execution_count": 14,
   "metadata": {},
   "outputs": [],
   "source": [
    "from sklearn.svm import SVR"
   ]
  },
  {
   "cell_type": "code",
   "execution_count": 15,
   "metadata": {},
   "outputs": [],
   "source": [
    "reg = SVR()"
   ]
  },
  {
   "cell_type": "code",
   "execution_count": 16,
   "metadata": {},
   "outputs": [
    {
     "data": {
      "text/plain": [
       "array([2.30633546, 4.01737101, 2.03516993, ..., 3.63779045, 0.19930895,\n",
       "       0.52724841])"
      ]
     },
     "execution_count": 16,
     "metadata": {},
     "output_type": "execute_result"
    }
   ],
   "source": [
    "training_data"
   ]
  },
  {
   "cell_type": "code",
   "execution_count": 17,
   "metadata": {},
   "outputs": [],
   "source": [
    "features = training_data[:-1]\n",
    "target = training_data[1:]\n",
    "\n",
    "assert len(features) == len(target)"
   ]
  },
  {
   "cell_type": "markdown",
   "metadata": {},
   "source": [
    "---"
   ]
  },
  {
   "cell_type": "code",
   "execution_count": 22,
   "metadata": {},
   "outputs": [],
   "source": [
    "features = features.reshape(-1,1)"
   ]
  },
  {
   "cell_type": "code",
   "execution_count": 19,
   "metadata": {},
   "outputs": [
    {
     "data": {
      "text/plain": [
       "array([4.01737101, 2.03516993, 4.98216729, ..., 3.63779045, 0.19930895,\n",
       "       0.52724841])"
      ]
     },
     "execution_count": 19,
     "metadata": {},
     "output_type": "execute_result"
    }
   ],
   "source": [
    "target"
   ]
  },
  {
   "cell_type": "code",
   "execution_count": 24,
   "metadata": {},
   "outputs": [],
   "source": [
    "from sklearn.svm import SVR"
   ]
  },
  {
   "cell_type": "code",
   "execution_count": 25,
   "metadata": {},
   "outputs": [],
   "source": [
    "ml = SVR()"
   ]
  },
  {
   "cell_type": "code",
   "execution_count": 26,
   "metadata": {},
   "outputs": [
    {
     "data": {
      "text/plain": [
       "SVR(C=1.0, cache_size=200, coef0=0.0, degree=3, epsilon=0.1, gamma='auto',\n",
       "  kernel='rbf', max_iter=-1, shrinking=True, tol=0.001, verbose=False)"
      ]
     },
     "execution_count": 26,
     "metadata": {},
     "output_type": "execute_result"
    }
   ],
   "source": [
    "ml.fit(features,target)"
   ]
  },
  {
   "cell_type": "code",
   "execution_count": 28,
   "metadata": {},
   "outputs": [
    {
     "data": {
      "text/plain": [
       "array([ -6.85543449,  -7.55415171,  -5.72531225,  -0.61160126,\n",
       "        -5.05003989,   8.0377848 ,  -3.89940941,  -0.11156834,\n",
       "       -10.06041425,   0.37546207,   0.45163995,  -5.05459713,\n",
       "         3.87526399,   4.94875773,   3.27692584,   0.177372  ,\n",
       "        -2.24889353,   1.73168952,  -2.38185868,  -1.98820505,\n",
       "        -3.37085   ,  -4.58450069,   1.55035593,  -9.91617302,\n",
       "        -3.84023892,   1.20469863,  -1.85415421,   3.50032071,\n",
       "         5.25579491,  -8.07753641,  -0.6181936 ,  -2.57139795])"
      ]
     },
     "execution_count": 28,
     "metadata": {},
     "output_type": "execute_result"
    }
   ],
   "source": [
    "testing_data"
   ]
  },
  {
   "cell_type": "code",
   "execution_count": 30,
   "metadata": {},
   "outputs": [
    {
     "data": {
      "text/plain": [
       "array([2.30633546, 4.01737101, 2.03516993, ..., 3.63779045, 0.19930895,\n",
       "       0.52724841])"
      ]
     },
     "execution_count": 30,
     "metadata": {},
     "output_type": "execute_result"
    }
   ],
   "source": [
    "training_data"
   ]
  },
  {
   "cell_type": "code",
   "execution_count": 33,
   "metadata": {},
   "outputs": [],
   "source": [
    "features_test = testing_data[:-1]\n",
    "target_test = testing_data[1:]"
   ]
  },
  {
   "cell_type": "code",
   "execution_count": 32,
   "metadata": {},
   "outputs": [
    {
     "data": {
      "text/plain": [
       "array([ -6.85543449,  -7.55415171,  -5.72531225,  -0.61160126,\n",
       "        -5.05003989,   8.0377848 ,  -3.89940941,  -0.11156834,\n",
       "       -10.06041425,   0.37546207,   0.45163995,  -5.05459713,\n",
       "         3.87526399,   4.94875773,   3.27692584,   0.177372  ,\n",
       "        -2.24889353,   1.73168952,  -2.38185868,  -1.98820505,\n",
       "        -3.37085   ,  -4.58450069,   1.55035593,  -9.91617302,\n",
       "        -3.84023892,   1.20469863,  -1.85415421,   3.50032071,\n",
       "         5.25579491,  -8.07753641,  -0.6181936 ])"
      ]
     },
     "execution_count": 32,
     "metadata": {},
     "output_type": "execute_result"
    }
   ],
   "source": [
    "features_test"
   ]
  },
  {
   "cell_type": "code",
   "execution_count": 34,
   "metadata": {},
   "outputs": [
    {
     "data": {
      "text/plain": [
       "array([ -7.55415171,  -5.72531225,  -0.61160126,  -5.05003989,\n",
       "         8.0377848 ,  -3.89940941,  -0.11156834, -10.06041425,\n",
       "         0.37546207,   0.45163995,  -5.05459713,   3.87526399,\n",
       "         4.94875773,   3.27692584,   0.177372  ,  -2.24889353,\n",
       "         1.73168952,  -2.38185868,  -1.98820505,  -3.37085   ,\n",
       "        -4.58450069,   1.55035593,  -9.91617302,  -3.84023892,\n",
       "         1.20469863,  -1.85415421,   3.50032071,   5.25579491,\n",
       "        -8.07753641,  -0.6181936 ,  -2.57139795])"
      ]
     },
     "execution_count": 34,
     "metadata": {},
     "output_type": "execute_result"
    }
   ],
   "source": [
    "target_test"
   ]
  },
  {
   "cell_type": "code",
   "execution_count": null,
   "metadata": {},
   "outputs": [],
   "source": []
  }
 ],
 "metadata": {
  "kernelspec": {
   "display_name": "Python 3",
   "language": "python",
   "name": "python3"
  },
  "language_info": {
   "codemirror_mode": {
    "name": "ipython",
    "version": 3
   },
   "file_extension": ".py",
   "mimetype": "text/x-python",
   "name": "python",
   "nbconvert_exporter": "python",
   "pygments_lexer": "ipython3",
   "version": "3.6.4"
  }
 },
 "nbformat": 4,
 "nbformat_minor": 2
}
