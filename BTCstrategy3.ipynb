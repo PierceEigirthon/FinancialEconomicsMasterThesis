{
 "cells": [
  {
   "cell_type": "code",
   "execution_count": 68,
   "metadata": {},
   "outputs": [],
   "source": [
    "%matplotlib inline\n",
    "import numpy as np\n",
    "import pandas as pd\n",
    "import matplotlib.pyplot as plt\n",
    "import seaborn as sns"
   ]
  },
  {
   "cell_type": "code",
   "execution_count": 70,
   "metadata": {},
   "outputs": [
    {
     "name": "stdout",
     "output_type": "stream",
     "text": [
      "11573.3\n"
     ]
    }
   ],
   "source": [
    " df, df2, df3 = pd.read_csv('fourGreta.csv'), pd.read_csv('data1.csv'), pd.read_csv('data2.csv')\n",
    "df = df.iloc[-33:,:]\n",
    "hold = df.iloc[0,:]\n",
    "df = df.iloc[1:,:]\n",
    "assert len(df) == len(df2) == len(df3)\n",
    "df['GRUBTCRTN'] = df2.GRUBTCRTN.values\n",
    "df['GRUBTCPRC'] = df3.GRUBTCPRC.values\n",
    "# get our starting point price at 2018-03-05\n",
    "start_price = hold['price']\n",
    "print(start_price)\n",
    "prices = df['price'].values\n",
    "dates = df['date'].values\n",
    "return_strategy = df['GRUBTCRTN'].values\n",
    "price_strategy = df['GRUBTCPRC'].values"
   ]
  },
  {
   "cell_type": "markdown",
   "metadata": {},
   "source": [
    "# Test return if you only holded bitcoin from 2018-03-05"
   ]
  },
  {
   "cell_type": "code",
   "execution_count": 72,
   "metadata": {},
   "outputs": [
    {
     "data": {
      "text/plain": [
       "4936.98"
      ]
     },
     "execution_count": 72,
     "metadata": {},
     "output_type": "execute_result"
    }
   ],
   "source": [
    " # lost 4143.58 regarding USD by holding, investment worth around 61% of value, so 6636\n",
    "    \n",
    "# 10779.9 - 100\n",
    "# 6636.32 - x\n",
    "11573.3 - prices[-1]\n",
    "#(6636.32 * 100)/11573.3"
   ]
  },
  {
   "cell_type": "markdown",
   "metadata": {},
   "source": [
    "# Test with return data"
   ]
  },
  {
   "cell_type": "code",
   "execution_count": 27,
   "metadata": {},
   "outputs": [
    {
     "data": {
      "text/plain": [
       "array([0, 1, 0, 0, 1, 1, 0, 0, 1, 1, 1, 0, 0, 0, 0, 0, 0, 1, 0, 0, 0, 1,\n",
       "       1, 0, 1, 1, 0, 0, 0, 0, 0, 0], dtype=int64)"
      ]
     },
     "execution_count": 27,
     "metadata": {},
     "output_type": "execute_result"
    }
   ],
   "source": [
    "return_strategy"
   ]
  },
  {
   "cell_type": "code",
   "execution_count": 59,
   "metadata": {},
   "outputs": [
    {
     "data": {
      "text/plain": [
       "array([10779.9 ,  9965.57,  9395.01,  9337.55,  8866.  ,  9578.63,\n",
       "        9205.12,  9194.85,  8269.81,  8300.86,  8338.35,  7916.88,\n",
       "        8223.68,  8630.65,  8913.47,  8929.28,  8728.47,  8879.62,\n",
       "        8668.12,  8495.78,  8209.4 ,  7833.04,  7954.48,  7165.7 ,\n",
       "        6890.52,  6973.53,  6844.23,  7083.8 ,  7456.11,  6853.84,\n",
       "        6811.47,  6636.32])"
      ]
     },
     "execution_count": 59,
     "metadata": {},
     "output_type": "execute_result"
    }
   ],
   "source": [
    "prices"
   ]
  },
  {
   "cell_type": "code",
   "execution_count": 75,
   "metadata": {},
   "outputs": [],
   "source": [
    "prices_test = np.append([start_price], prices)\n",
    "prices_test = prices_test[:-1]"
   ]
  },
  {
   "cell_type": "code",
   "execution_count": 78,
   "metadata": {},
   "outputs": [
    {
     "data": {
      "text/plain": [
       "array([11573.3 , 10779.9 ,  9965.57,  9395.01,  9337.55,  8866.  ,\n",
       "        9578.63,  9205.12,  9194.85,  8269.81,  8300.86,  8338.35,\n",
       "        7916.88,  8223.68,  8630.65,  8913.47,  8929.28,  8728.47,\n",
       "        8879.62,  8668.12,  8495.78,  8209.4 ,  7833.04,  7954.48,\n",
       "        7165.7 ,  6890.52,  6973.53,  6844.23,  7083.8 ,  7456.11,\n",
       "        6853.84,  6811.47])"
      ]
     },
     "execution_count": 78,
     "metadata": {},
     "output_type": "execute_result"
    }
   ],
   "source": [
    "prices_test"
   ]
  },
  {
   "cell_type": "code",
   "execution_count": 111,
   "metadata": {},
   "outputs": [],
   "source": [
    "def strategy(my_strategy):\n",
    "    # ok lets go\n",
    "    btc = 1\n",
    "    bank = -start_price\n",
    "\n",
    "    for i in range(len(price_strategy)):\n",
    "        if my_strategy[i] == 1:\n",
    "            btc += 1\n",
    "            bank -= prices_test[i]\n",
    "        elif my_strategy[i] == 0:\n",
    "            if btc == 0:\n",
    "                pass\n",
    "            elif btc > 0:\n",
    "                btc = 0\n",
    "                bank += prices_test[i]\n",
    "\n",
    "    return btc, bank"
   ]
  },
  {
   "cell_type": "code",
   "execution_count": 112,
   "metadata": {},
   "outputs": [
    {
     "data": {
      "text/plain": [
       "(0, -41885.92)"
      ]
     },
     "execution_count": 112,
     "metadata": {},
     "output_type": "execute_result"
    }
   ],
   "source": [
    "strategy(return_strategy)"
   ]
  },
  {
   "cell_type": "code",
   "execution_count": 113,
   "metadata": {},
   "outputs": [
    {
     "data": {
      "text/plain": [
       "(0, 0.0)"
      ]
     },
     "execution_count": 113,
     "metadata": {},
     "output_type": "execute_result"
    }
   ],
   "source": [
    "strategy(price_strategy)"
   ]
  },
  {
   "cell_type": "code",
   "execution_count": 123,
   "metadata": {},
   "outputs": [],
   "source": [
    "coins = []\n",
    "banks = []\n",
    "\n",
    "for i in range(1000000):\n",
    "\n",
    "    x = np.random.choice(2, len(return_strategy))\n",
    "    \n",
    "    zz, zzz = strategy(x)\n",
    "    coins.append(zz*prices[-1])\n",
    "    banks.append(zzz)\n",
    "\n",
    "coins = np.array(coins)\n",
    "banks = np.array(banks)"
   ]
  },
  {
   "cell_type": "code",
   "execution_count": 128,
   "metadata": {},
   "outputs": [
    {
     "data": {
      "text/plain": [
       "-69594.49249006005"
      ]
     },
     "execution_count": 128,
     "metadata": {},
     "output_type": "execute_result"
    }
   ],
   "source": [
    "coins.mean() + banks.mean()"
   ]
  },
  {
   "cell_type": "code",
   "execution_count": 129,
   "metadata": {},
   "outputs": [
    {
     "data": {
      "text/plain": [
       "'\\nINITIALIZE bitcoin_amount -> 1\\nINITIALIZE bank_holding -> -11573.3\\n\\nFOR day in testing_period:  \\n    IF strategy[day] == buy:\\n        bitcoin_amount -> bitcoin_amount + 1\\n        bank_holding -> bank_holding - price[day]\\n    ELSE IF strategy[day] == sell:\\n        IF bitcoin_amount == 0:\\n            DO NOTHING\\n        ELSE IF bitcoin_amount > 0:\\n            bitcoin_amount -> 0\\n            bank_holding -> bank_holding + price[day]\\n'"
      ]
     },
     "execution_count": 129,
     "metadata": {},
     "output_type": "execute_result"
    }
   ],
   "source": [
    "\"\"\"\n",
    "INITIALIZE bitcoin_amount -> 1\n",
    "INITIALIZE bank_holding -> -11573.3\n",
    "\n",
    "FOR day in testing_period:  \n",
    "    IF strategy[day] == buy:\n",
    "        bitcoin_amount -> bitcoin_amount + 1\n",
    "        bank_holding -> bank_holding - price[day]\n",
    "    ELSE IF strategy[day] == sell:\n",
    "        IF bitcoin_amount == 0:\n",
    "            DO NOTHING\n",
    "        ELSE IF bitcoin_amount > 0:\n",
    "            bitcoin_amount -> 0\n",
    "            bank_holding -> bank_holding + price[day]\n",
    "\"\"\"        \n",
    "    "
   ]
  },
  {
   "cell_type": "code",
   "execution_count": 131,
   "metadata": {},
   "outputs": [
    {
     "data": {
      "text/plain": [
       "-76239.11452638004"
      ]
     },
     "execution_count": 131,
     "metadata": {},
     "output_type": "execute_result"
    }
   ],
   "source": [
    "banks.mean()"
   ]
  },
  {
   "cell_type": "code",
   "execution_count": null,
   "metadata": {},
   "outputs": [],
   "source": []
  }
 ],
 "metadata": {
  "kernelspec": {
   "display_name": "Python 3",
   "language": "python",
   "name": "python3"
  },
  "language_info": {
   "codemirror_mode": {
    "name": "ipython",
    "version": 3
   },
   "file_extension": ".py",
   "mimetype": "text/x-python",
   "name": "python",
   "nbconvert_exporter": "python",
   "pygments_lexer": "ipython3",
   "version": "3.6.4"
  }
 },
 "nbformat": 4,
 "nbformat_minor": 2
}
