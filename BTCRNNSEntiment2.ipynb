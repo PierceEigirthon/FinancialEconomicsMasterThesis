{
 "cells": [
  {
   "cell_type": "code",
   "execution_count": 1,
   "metadata": {},
   "outputs": [
    {
     "name": "stderr",
     "output_type": "stream",
     "text": [
      "C:\\Users\\AURIMASSilva\\Anaconda3\\lib\\site-packages\\h5py\\__init__.py:36: FutureWarning: Conversion of the second argument of issubdtype from `float` to `np.floating` is deprecated. In future, it will be treated as `np.float64 == np.dtype(float).type`.\n",
      "  from ._conv import register_converters as _register_converters\n",
      "Using TensorFlow backend.\n"
     ]
    }
   ],
   "source": [
    "%matplotlib inline\n",
    "\n",
    "import numpy as np\n",
    "import pandas as pd\n",
    "import matplotlib.pyplot as plt\n",
    "import seaborn as sns\n",
    "from keras.preprocessing.sequence import TimeseriesGenerator\n",
    "from sklearn.metrics import mean_squared_error as mse\n",
    "from sklearn.svm import SVR\n",
    "from tqdm import tqdm\n",
    "from sklearn.preprocessing import StandardScaler\n",
    "from keras.callbacks import ModelCheckpoint, EarlyStopping\n",
    "from keras.optimizers import Adam\n",
    "from sklearn.preprocessing import MinMaxScaler\n",
    "from sklearn.metrics import mean_absolute_error as mae"
   ]
  },
  {
   "cell_type": "code",
   "execution_count": 2,
   "metadata": {},
   "outputs": [],
   "source": [
    "def impute_0(x):\n",
    "    if pd.isnull(x):\n",
    "        return 0.00\n",
    "    else:\n",
    "        return x"
   ]
  },
  {
   "cell_type": "code",
   "execution_count": 3,
   "metadata": {},
   "outputs": [],
   "source": [
    "df = pd.read_csv('ready_returns.csv', header =None) # read BTC return data\n",
    "df.columns = ['marge', 'returns'] # make columns nicer\n",
    "df2 = pd.read_csv('sentiment_ready.csv') # read BTC sentiment data\n",
    "df2.columns  = ['index', 'marge', 'sentiment'] # make columns nicer\n",
    "df2 = df2.iloc[1:,:] # remove 2013-12-12 entry for sentiment\n",
    "df3 = pd.merge(df,df2, how='outer', on='marge') # merge sentiment and btc return data\n",
    "assert len(df) == len(df3)   # check if all dates are on\n",
    "df3 = df3[['marge', 'returns', 'sentiment']] # leave relevant oclumns\n",
    "df3.columns = ['date', 'returns', 'sentiment'] # change columns\n",
    "df3['sentiment'] = df3['sentiment'].apply(lambda x : impute_0(x)) # impute missing values with 0"
   ]
  },
  {
   "cell_type": "code",
   "execution_count": 5,
   "metadata": {},
   "outputs": [],
   "source": [
    "# additional btc price data\n",
    "df_price = pd.read_csv('lol.csv')\n",
    "df_price = df_price[1:]\n",
    "df3['price'] = df_price.values"
   ]
  },
  {
   "cell_type": "code",
   "execution_count": 6,
   "metadata": {},
   "outputs": [],
   "source": [
    "sentiment = df3['sentiment'].values\n",
    "returns = df3['returns'].values\n",
    "assert len(sentiment) == len(returns)"
   ]
  },
  {
   "cell_type": "code",
   "execution_count": 7,
   "metadata": {},
   "outputs": [
    {
     "data": {
      "text/plain": [
       "array([ 2.30633546,  4.01737101,  2.03516993, ..., -8.07753641,\n",
       "       -0.6181936 , -2.57139795])"
      ]
     },
     "execution_count": 7,
     "metadata": {},
     "output_type": "execute_result"
    }
   ],
   "source": [
    "returns"
   ]
  },
  {
   "cell_type": "code",
   "execution_count": 8,
   "metadata": {},
   "outputs": [
    {
     "data": {
      "text/plain": [
       "array([0.37426328, 0.25697687, 0.2750259 , ..., 0.41973929, 0.34067555,\n",
       "       0.29402947])"
      ]
     },
     "execution_count": 8,
     "metadata": {},
     "output_type": "execute_result"
    }
   ],
   "source": [
    "sentiment"
   ]
  },
  {
   "cell_type": "code",
   "execution_count": 9,
   "metadata": {},
   "outputs": [],
   "source": [
    "\n",
    "\n",
    "data_gen = TimeseriesGenerator(np.append(sentiment,0.00), np.append(sentiment,0.00),\n",
    "                                       length= 10, sampling_rate=1,\n",
    "                                       batch_size=1)\n",
    "\n",
    "# get features and targets from generated batches\n",
    "features_sentiment = []\n",
    "targets_sentiment = []\n",
    "i = 0\n",
    "while True:\n",
    "    try:\n",
    "        features_sentiment.append(list(data_gen[i][0][0]))\n",
    "        targets_sentiment.append(data_gen[i][1][0])\n",
    "        i += 1\n",
    "    except:\n",
    "        break\n",
    "data_gen = TimeseriesGenerator(np.append(returns,0.00), np.append(returns,0.00),\n",
    "                                       length= 10, sampling_rate=1,\n",
    "                                       batch_size=1)\n",
    "\n",
    "# get features and targets from generated batches\n",
    "features_returns = []\n",
    "targets_returns = []\n",
    "i = 0\n",
    "while True:\n",
    "    try:\n",
    "        features_returns.append(list(data_gen[i][0][0]))\n",
    "        targets_returns.append(data_gen[i][1][0])\n",
    "        i += 1\n",
    "    except:\n",
    "        break\n",
    "        \n",
    "assert len(features_sentiment) == len(features_returns)\n",
    "assert len(targets_sentiment) == len(targets_returns)"
   ]
  },
  {
   "cell_type": "code",
   "execution_count": 13,
   "metadata": {},
   "outputs": [
    {
     "data": {
      "text/plain": [
       "[0.2569768707482993,\n",
       " 0.27502589928057536,\n",
       " 0.3302259374999999,\n",
       " 0.25859109311740885,\n",
       " 0.28534702258726896,\n",
       " 0.2777257683215129,\n",
       " 0.1969468671679196,\n",
       " 0.21032805611222435,\n",
       " 0.2229191596638656,\n",
       " 0.2801149717514127]"
      ]
     },
     "execution_count": 13,
     "metadata": {},
     "output_type": "execute_result"
    }
   ],
   "source": [
    "features_sentiment[1]"
   ]
  },
  {
   "cell_type": "code",
   "execution_count": 14,
   "metadata": {},
   "outputs": [
    {
     "data": {
      "text/plain": [
       "0.2801149717514127"
      ]
     },
     "execution_count": 14,
     "metadata": {},
     "output_type": "execute_result"
    }
   ],
   "source": [
    "targets_sentiment[0]"
   ]
  },
  {
   "cell_type": "code",
   "execution_count": 15,
   "metadata": {},
   "outputs": [
    {
     "data": {
      "text/plain": [
       "[4.0173710137412515,\n",
       " 2.0351699298346237,\n",
       " 4.9821672855188535,\n",
       " 8.611883515026001,\n",
       " 2.1166968388803777,\n",
       " -15.870301796934822,\n",
       " 5.077306733167085,\n",
       " 0.4912663755458499,\n",
       " 2.5529603476371543,\n",
       " 5.235584008843039]"
      ]
     },
     "execution_count": 15,
     "metadata": {},
     "output_type": "execute_result"
    }
   ],
   "source": [
    "features_returns[1]"
   ]
  },
  {
   "cell_type": "code",
   "execution_count": 17,
   "metadata": {},
   "outputs": [
    {
     "data": {
      "text/plain": [
       "5.235584008843039"
      ]
     },
     "execution_count": 17,
     "metadata": {},
     "output_type": "execute_result"
    }
   ],
   "source": [
    "targets_returns[0]"
   ]
  },
  {
   "cell_type": "code",
   "execution_count": null,
   "metadata": {},
   "outputs": [],
   "source": []
  }
 ],
 "metadata": {
  "kernelspec": {
   "display_name": "Python 3",
   "language": "python",
   "name": "python3"
  },
  "language_info": {
   "codemirror_mode": {
    "name": "ipython",
    "version": 3
   },
   "file_extension": ".py",
   "mimetype": "text/x-python",
   "name": "python",
   "nbconvert_exporter": "python",
   "pygments_lexer": "ipython3",
   "version": "3.6.4"
  }
 },
 "nbformat": 4,
 "nbformat_minor": 2
}
